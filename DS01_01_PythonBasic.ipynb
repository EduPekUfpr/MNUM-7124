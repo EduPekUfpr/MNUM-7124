{
 "cells": [
  {
   "cell_type": "markdown",
   "metadata": {
    "id": "tA_5YWGsgm--"
   },
   "source": [
    "<img\n",
    "  class=\"PPGOLD\"\n",
    "  src=\"https://scontent.fcwb2-3.fna.fbcdn.net/v/t39.30808-6/361221940_697521095724500_3881948924615438199_n.png?_nc_cat=108&ccb=1-7&_nc_sid=783fdb&_nc_ohc=DYe3G0xclZYAX-GvE-W&_nc_ht=scontent.fcwb2-3.fna&oh=00_AfAcod4SNDmHPaVgZBn2yhrRlP1IB2vpJfPwmaFYrw_9jQ&oe=65E1583F\"\n",
    "  alt=\"PPGOLD - Gestão de Organizações, Liderança e Decisão\"\n",
    "  height = \"200\"\n",
    "  />\n",
    "\n",
    "\n",
    "# Introdução ao Python\n",
    "\n",
    "Aula 01\n",
    "\n",
    "* Primeiro programa\n",
    "* Erros\n",
    "* Variáveis\n",
    "* Tipos básicos\n",
    "* Operações Básicas\n",
    "* Strings"
   ]
  },
  {
   "cell_type": "markdown",
   "metadata": {
    "id": "0bGMbySxdDat"
   },
   "source": [
    "## Seu primeiro programa"
   ]
  },
  {
   "cell_type": "code",
   "execution_count": 4,
   "metadata": {
    "colab": {
     "base_uri": "https://localhost:8080/"
    },
    "id": "A7lNeR7idCic",
    "outputId": "cdab8864-ea8f-4fdd-ede1-c7e1f4e1fa2e"
   },
   "outputs": [
    {
     "name": "stdout",
     "output_type": "stream",
     "text": [
      "Hello PPGOLD!\n"
     ]
    }
   ],
   "source": [
    "print('Hello PPGOLD!')"
   ]
  },
  {
   "cell_type": "markdown",
   "metadata": {
    "id": "6Jz2A1CcdOY1"
   },
   "source": [
    "## Comentários\n",
    "\n",
    "É comum comentar o código, o que informa a outras pessoas o que o código faz. Basta colocar um símbolo de hash no comentário. Quando você executar o código, o Python ignorará o comentário.\n",
    "\n",
    "Comentar o código é também uma boa prática de programação."
   ]
  },
  {
   "cell_type": "code",
   "execution_count": 5,
   "metadata": {
    "id": "cJ_tE7hfdN3R"
   },
   "outputs": [],
   "source": [
    "# print(\"Hello PPGOLD\")"
   ]
  },
  {
   "cell_type": "code",
   "execution_count": 6,
   "metadata": {
    "colab": {
     "base_uri": "https://localhost:8080/"
    },
    "id": "WIlhceP6doBl",
    "outputId": "ade81861-fb14-4940-bd68-2dc011b40e88"
   },
   "outputs": [
    {
     "name": "stdout",
     "output_type": "stream",
     "text": [
      "Hello PPGOLD\n"
     ]
    }
   ],
   "source": [
    "# OIE\n",
    "print(\"Hello PPGOLD\")"
   ]
  },
  {
   "cell_type": "markdown",
   "metadata": {
    "id": "zBnOoN10eL0W"
   },
   "source": []
  },
  {
   "cell_type": "markdown",
   "metadata": {
    "id": "lU7TeZfdd5u4"
   },
   "source": [
    "## Erro de Sintaxe\n",
    "\n",
    "Um erro de sintaxe ocorre quando o python não entende seu código. Por exemplo, se você escrever print \"frint\", receberá uma mensagem de erro."
   ]
  },
  {
   "cell_type": "code",
   "execution_count": 7,
   "metadata": {
    "colab": {
     "base_uri": "https://localhost:8080/",
     "height": 141
    },
    "id": "qOTPEBPbeMGT",
    "outputId": "5f13eb0a-4be4-40cb-fe9a-06071048955c"
   },
   "outputs": [
    {
     "ename": "NameError",
     "evalue": "name 'frint' is not defined",
     "output_type": "error",
     "traceback": [
      "\u001b[0;31m---------------------------------------------------------------------------\u001b[0m",
      "\u001b[0;31mNameError\u001b[0m                                 Traceback (most recent call last)",
      "Cell \u001b[0;32mIn[7], line 1\u001b[0m\n\u001b[0;32m----> 1\u001b[0m \u001b[43mfrint\u001b[49m(\u001b[38;5;124m\"\u001b[39m\u001b[38;5;124mHello PPGOLD\u001b[39m\u001b[38;5;124m\"\u001b[39m)\n",
      "\u001b[0;31mNameError\u001b[0m: name 'frint' is not defined"
     ]
    }
   ],
   "source": [
    "frint(\"Hello PPGOLD\")"
   ]
  },
  {
   "cell_type": "markdown",
   "metadata": {
    "id": "WYIjMuROea4A"
   },
   "source": [
    "## Erro semântico\n",
    "\n",
    "Um erro semântico é quando sua lógica está errada. Por exemplo, se você digitar PPPPPGOLD em vez de PPGOLD. Você não recebe uma mensagem de erro, mas seu código está errado"
   ]
  },
  {
   "cell_type": "code",
   "execution_count": null,
   "metadata": {
    "colab": {
     "base_uri": "https://localhost:8080/"
    },
    "id": "_wFiRliTelp0",
    "outputId": "8787b198-d690-4e1e-8398-7e45e6192892"
   },
   "outputs": [],
   "source": [
    "print(\"Hello PPPPPGOLD\")"
   ]
  },
  {
   "cell_type": "markdown",
   "metadata": {
    "id": "Zd4Cnghglj9V"
   },
   "source": [
    "## Variáveis"
   ]
  },
  {
   "cell_type": "markdown",
   "metadata": {
    "id": "sYs11KgAlj9V"
   },
   "source": [
    "Também podemos **armazenar** nossa saída em **variáveis**, para que possamos usá-las posteriormente. Por exemplo:"
   ]
  },
  {
   "cell_type": "code",
   "execution_count": null,
   "metadata": {
    "id": "Bb3Uda7llj9V"
   },
   "outputs": [],
   "source": [
    "x = 43 + 60 + 16 + 41"
   ]
  },
  {
   "cell_type": "markdown",
   "metadata": {
    "id": "ztZ1dUWGlj9V"
   },
   "source": [
    "Para retornar o valor de **`x`**, podemos simplesmente executar a variável como um comando:"
   ]
  },
  {
   "cell_type": "code",
   "execution_count": null,
   "metadata": {
    "colab": {
     "base_uri": "https://localhost:8080/"
    },
    "id": "JfgzkOSWlj9V",
    "outputId": "631330b8-c841-4dce-fbfb-72153574974a"
   },
   "outputs": [],
   "source": [
    "x"
   ]
  },
  {
   "cell_type": "markdown",
   "metadata": {
    "id": "ThkJFst6lj9V"
   },
   "source": [
    "Também podemos realizar operações em **`x`** e salvar o resultado em uma **nova variável**:"
   ]
  },
  {
   "cell_type": "code",
   "execution_count": null,
   "metadata": {
    "colab": {
     "base_uri": "https://localhost:8080/"
    },
    "id": "0NJSAR8dlj9W",
    "outputId": "8474ab35-0481-40b9-c28e-617760b5f415"
   },
   "outputs": [],
   "source": [
    "y = x / 60\n",
    "y"
   ]
  },
  {
   "cell_type": "markdown",
   "metadata": {
    "id": "TcNxrEF_lj9W"
   },
   "source": [
    "Se salvarmos algo em uma **variável existente**, ela **sobrescreverá** o valor anterior:"
   ]
  },
  {
   "cell_type": "code",
   "execution_count": null,
   "metadata": {
    "colab": {
     "base_uri": "https://localhost:8080/"
    },
    "id": "gwA_ijxzlj9W",
    "outputId": "39c1b83d-f7c8-468e-dd54-64cf82f36677"
   },
   "outputs": [],
   "source": [
    "x = x / 60\n",
    "x"
   ]
  },
  {
   "cell_type": "markdown",
   "metadata": {
    "id": "SYv_w2tIlj9W"
   },
   "source": [
    "É uma boa prática usar **nomes de variáveis significativos**, para que você não precise\n",
    "\n",
    "---\n",
    "\n",
    "manter o controle de qual variável é qual:"
   ]
  },
  {
   "cell_type": "code",
   "execution_count": null,
   "metadata": {
    "colab": {
     "base_uri": "https://localhost:8080/"
    },
    "id": "7R8QNXKVlj9W",
    "outputId": "a96bfa13-5b80-4931-fa9b-3b143fa16cbf"
   },
   "outputs": [],
   "source": [
    "total_min = (22 + 67 )\n",
    "total_min"
   ]
  },
  {
   "cell_type": "code",
   "execution_count": 8,
   "metadata": {
    "colab": {
     "base_uri": "https://localhost:8080/"
    },
    "id": "GAu5HmH3lj9W",
    "outputId": "77cd7ce8-72bf-46f5-9e09-3993a2f01b79"
   },
   "outputs": [
    {
     "ename": "NameError",
     "evalue": "name 'total_min' is not defined",
     "output_type": "error",
     "traceback": [
      "\u001b[0;31m---------------------------------------------------------------------------\u001b[0m",
      "\u001b[0;31mNameError\u001b[0m                                 Traceback (most recent call last)",
      "Cell \u001b[0;32mIn[8], line 1\u001b[0m\n\u001b[0;32m----> 1\u001b[0m total_hr \u001b[38;5;241m=\u001b[39m \u001b[43mtotal_min\u001b[49m \u001b[38;5;241m/\u001b[39m \u001b[38;5;241m60\u001b[39m\n\u001b[1;32m      2\u001b[0m total_hr\n",
      "\u001b[0;31mNameError\u001b[0m: name 'total_min' is not defined"
     ]
    }
   ],
   "source": [
    "total_hr = total_min / 60\n",
    "total_hr"
   ]
  },
  {
   "cell_type": "markdown",
   "metadata": {
    "id": "DyQYY57ulj9W"
   },
   "source": [
    "Você pode colocar tudo isso em uma única expressão, mas lembre-se de usar **entre parêntese** para somar os comprimentos dos álbuns primeiro, antes de dividir por 60."
   ]
  },
  {
   "cell_type": "code",
   "execution_count": null,
   "metadata": {
    "colab": {
     "base_uri": "https://localhost:8080/"
    },
    "id": "kBqfx2iplj9X",
    "outputId": "861256fd-59d0-4da7-892e-58712af27018"
   },
   "outputs": [],
   "source": [
    "total_hr = (22 + 67 + 57) / 60  # coloca o total em uma única expressão\n",
    "total_hr"
   ]
  },
  {
   "cell_type": "markdown",
   "metadata": {
    "id": "R9AaJSsllj9X"
   },
   "source": [
    "<hr></hr>\n",
    "<div>\n",
    "<h4> [Tip] Variáveis em Python </h4>\n",
    "<p></p>\n",
    "Como você acabou de aprender, é possível usar **variáveis** para armazenar valores para uso repetido. Aqui estão mais algumas **características das variáveis em Python**:\n",
    "<li>as variáveis armazenam a saída de um bloco de código </li>\n",
    "<li>As variáveis são normalmente atribuídas usando **=** (como em **x = 1**) </li>\n",
    "<p></p>\n",
    "<hr></hr>\n",
    "<h4>Operadores de Atribuição:</h4>\n",
    "<li>Operador de atribuição simples (=): atribui o valor à variável. </li>\n",
    "<li>Operador de atribuição com adição (+=): adiciona o valor à variável e atualiza o valor da variável. </li>\n",
    "<li>Operador de atribuição com subtração (-=): subtrai o valor da variável e atualiza o valor da variável. </li>\n",
    "<p></p>\n",
    "</div>\n",
    "<hr></hr>"
   ]
  },
  {
   "cell_type": "markdown",
   "metadata": {
    "id": "R6bd6iF3k1gO"
   },
   "source": [
    "### Nomes das variáveis\n",
    "\n",
    "Você deve ter notado algo acima de alguns dos nomes de variáveis que introduzimos acima, como total_hr e total_min. Esses dois nomes de variáveis são formados por um conjunto de caracteres com uma barra inferior entre as \"palavras\" do nome da variável.\n",
    "\n",
    "Esses dois nomes de variáveis destacam uma convenção de nomenclatura muito usada no Python, que é a de que os nomes de variáveis devem\n",
    "\n",
    "- ser todos minúsculos,\n",
    "- ser, em geral, mais descritivos do que nomes de variáveis como a ou b (embora\n",
    "(embora existam algumas exceções, como o uso de variáveis i e j em construções de looping).\n",
    "\n",
    "- com palavras individuais separadas por sublinhados, conforme necessário, para melhorar a legibilidade.\n",
    "\n",
    "Esse último ponto é muito importante, pois no Python (e na maioria das linguagens de programação de computadores) os espaços são tratados como separadores que podem ser usados para indicar onde uma coisa termina e outra começa.\n",
    "\n",
    "Portanto, não é possível definir um nome de variável como:\n",
    "- nome usuário\n",
    "Como o espaço é tratado pelo Python como um separador, o Python pensa que você está definindo duas coisas: \"nome\" e \"usuário\".\n"
   ]
  },
  {
   "cell_type": "markdown",
   "metadata": {
    "id": "dKrNIA7gg5Pf"
   },
   "source": [
    "## Tipos"
   ]
  },
  {
   "cell_type": "markdown",
   "metadata": {
    "id": "zYNGY3TYjgDk"
   },
   "source": [
    "### Inteiros"
   ]
  },
  {
   "cell_type": "code",
   "execution_count": null,
   "metadata": {
    "colab": {
     "base_uri": "https://localhost:8080/"
    },
    "id": "8ztGZe2Kg-QR",
    "outputId": "16b217b2-3426-4c9d-df0f-3ccd62276725"
   },
   "outputs": [],
   "source": [
    "a = 50\n",
    "type(a)"
   ]
  },
  {
   "cell_type": "markdown",
   "metadata": {
    "id": "iuh6wU6MT0Il"
   },
   "source": [
    "### Float"
   ]
  },
  {
   "cell_type": "code",
   "execution_count": null,
   "metadata": {
    "colab": {
     "base_uri": "https://localhost:8080/"
    },
    "id": "xjsPCismT2CR",
    "outputId": "60643076-1676-4e64-f3b1-6b99e1d35ae1"
   },
   "outputs": [],
   "source": [
    "a = 5.0\n",
    "type(a)"
   ]
  },
  {
   "cell_type": "markdown",
   "metadata": {
    "id": "DqShNIpMT1tq"
   },
   "source": [
    "### String"
   ]
  },
  {
   "cell_type": "code",
   "execution_count": null,
   "metadata": {
    "colab": {
     "base_uri": "https://localhost:8080/"
    },
    "id": "6UJVzUnxUBa3",
    "outputId": "d995d656-a04d-46da-e758-a8e3e2370cd4"
   },
   "outputs": [],
   "source": [
    "a = \"KKK\"\n",
    "type(a)"
   ]
  },
  {
   "cell_type": "markdown",
   "metadata": {
    "id": "T72ByRfcUGm5"
   },
   "source": [
    "### Bool"
   ]
  },
  {
   "cell_type": "code",
   "execution_count": null,
   "metadata": {
    "colab": {
     "base_uri": "https://localhost:8080/"
    },
    "id": "lxH8hDPzUGMA",
    "outputId": "75698531-8d16-4259-fee3-609b66dd3ab0"
   },
   "outputs": [],
   "source": [
    "a = True\n",
    "type(a)"
   ]
  },
  {
   "cell_type": "markdown",
   "metadata": {
    "id": "DhObx6moqg5a"
   },
   "source": [
    "### Inteiros e floats\n",
    "Cuidado com as conversões"
   ]
  },
  {
   "cell_type": "code",
   "execution_count": null,
   "metadata": {
    "colab": {
     "base_uri": "https://localhost:8080/"
    },
    "id": "vK0mQwraqnC3",
    "outputId": "3429fdbf-138a-45d3-c82e-00ad721a2989"
   },
   "outputs": [],
   "source": [
    "# de 'float' para 'int' você perde informações\n",
    "a = int(3.74)\n",
    "print(a)\n",
    "\n",
    "# de 'int' para 'float' você ganha precisão\n",
    "b = float(2)\n",
    "print(b)"
   ]
  },
  {
   "cell_type": "markdown",
   "metadata": {
    "id": "f-EJKmekhLvr"
   },
   "source": [
    "## Operações Básicas\n",
    "\n",
    "### Divisão inteira \"//\" e divisão clássica \"/\""
   ]
  },
  {
   "cell_type": "code",
   "execution_count": null,
   "metadata": {
    "colab": {
     "base_uri": "https://localhost:8080/"
    },
    "id": "Fk7-jTbkhAGN",
    "outputId": "46bc1a63-5809-4151-8b65-e79ea67f50d1"
   },
   "outputs": [],
   "source": [
    "a = 50\n",
    "a // 6"
   ]
  },
  {
   "cell_type": "code",
   "execution_count": 9,
   "metadata": {
    "colab": {
     "base_uri": "https://localhost:8080/"
    },
    "id": "wNgx3NyMhWIl",
    "outputId": "c26dfeda-26a8-4221-8e52-e8104d919453"
   },
   "outputs": [
    {
     "ename": "NameError",
     "evalue": "name 'a' is not defined",
     "output_type": "error",
     "traceback": [
      "\u001b[0;31m---------------------------------------------------------------------------\u001b[0m",
      "\u001b[0;31mNameError\u001b[0m                                 Traceback (most recent call last)",
      "Cell \u001b[0;32mIn[9], line 1\u001b[0m\n\u001b[0;32m----> 1\u001b[0m \u001b[43ma\u001b[49m \u001b[38;5;241m/\u001b[39m \u001b[38;5;241m6\u001b[39m\n",
      "\u001b[0;31mNameError\u001b[0m: name 'a' is not defined"
     ]
    }
   ],
   "source": [
    "a / 6"
   ]
  },
  {
   "cell_type": "markdown",
   "metadata": {
    "id": "nvXYvykgqQi0"
   },
   "source": [
    "### Resto"
   ]
  },
  {
   "cell_type": "code",
   "execution_count": null,
   "metadata": {
    "colab": {
     "base_uri": "https://localhost:8080/"
    },
    "id": "6A7q_T9HGP2s",
    "outputId": "cdddc54e-f59c-4e9f-d8e0-b0868a4f59b6"
   },
   "outputs": [],
   "source": [
    "a= 50\n",
    "print(a%7)"
   ]
  },
  {
   "cell_type": "markdown",
   "metadata": {
    "id": "I35-hJW4haS5"
   },
   "source": [
    "### Soma e Multiplicação"
   ]
  },
  {
   "cell_type": "code",
   "execution_count": null,
   "metadata": {
    "colab": {
     "base_uri": "https://localhost:8080/"
    },
    "id": "eCf8Vn7aUxKY",
    "outputId": "7e07c9ca-d045-4d0d-8be1-87198dbfe10b"
   },
   "outputs": [],
   "source": [
    "a = 3.0\n",
    "print(type(a))\n",
    "b = 5\n",
    "print(type(b))\n",
    "\n",
    "print(a+b)\n",
    "print(type(a+b))"
   ]
  },
  {
   "cell_type": "code",
   "execution_count": null,
   "metadata": {
    "colab": {
     "base_uri": "https://localhost:8080/"
    },
    "id": "sY6wjc-tU4Bu",
    "outputId": "31f7ef2e-db90-464c-f0ce-403499e4bc1b"
   },
   "outputs": [],
   "source": [
    "print(a*b)\n",
    "print(type(a*b))"
   ]
  },
  {
   "cell_type": "markdown",
   "metadata": {
    "id": "K1p1DG1_VQi0"
   },
   "source": [
    "## Expoentes"
   ]
  },
  {
   "cell_type": "code",
   "execution_count": null,
   "metadata": {
    "colab": {
     "base_uri": "https://localhost:8080/"
    },
    "id": "UjPc9xCGVSwI",
    "outputId": "3d10d73b-8954-4673-e5ac-8cdaaa763d1e"
   },
   "outputs": [],
   "source": [
    "a = 3\n",
    "b = 4\n",
    "\n",
    "c = a**b\n",
    "print(c)\n",
    "\n",
    "print(a^b)"
   ]
  },
  {
   "cell_type": "code",
   "execution_count": null,
   "metadata": {
    "colab": {
     "base_uri": "https://localhost:8080/"
    },
    "id": "VXQSvGQFWtBb",
    "outputId": "b3238590-8cd9-4409-b8cb-d207459d16df"
   },
   "outputs": [],
   "source": [
    "txt = \"A UFPR é a melhor universidade do Paraná!\"\n",
    "print(\"Paraná\" not in txt)"
   ]
  },
  {
   "cell_type": "markdown",
   "metadata": {
    "id": "NluEdzHLjro6"
   },
   "source": [
    "## Listas e Vetores\n",
    "\n",
    "Listas são uma coleção ordenada de variáveis, se todas forem do mesmo tipo chamamos de vetor."
   ]
  },
  {
   "cell_type": "code",
   "execution_count": null,
   "metadata": {
    "id": "tSlhFTyckDD3"
   },
   "outputs": [],
   "source": [
    "vetor = [1,2,3,4,5]"
   ]
  },
  {
   "cell_type": "code",
   "execution_count": null,
   "metadata": {
    "colab": {
     "base_uri": "https://localhost:8080/"
    },
    "id": "zjxxtq6BkKI8",
    "outputId": "d6e1eb4b-11cf-4fc4-e328-95797cf80a3e"
   },
   "outputs": [],
   "source": [
    "type(vetor)"
   ]
  },
  {
   "cell_type": "code",
   "execution_count": null,
   "metadata": {
    "colab": {
     "base_uri": "https://localhost:8080/"
    },
    "id": "CHuKpJjVmBju",
    "outputId": "533a768e-8b6f-4a46-bd4c-8912e9bd202a"
   },
   "outputs": [],
   "source": [
    "lista_louca = [\"Oi\", 2.14, 3]\n",
    "lista_louca"
   ]
  },
  {
   "cell_type": "code",
   "execution_count": 10,
   "metadata": {
    "colab": {
     "base_uri": "https://localhost:8080/"
    },
    "id": "3ROa5UymmLju",
    "outputId": "de4e29a6-58b1-42b0-90c7-50a9b364b4e7"
   },
   "outputs": [
    {
     "ename": "NameError",
     "evalue": "name 'lista_louca' is not defined",
     "output_type": "error",
     "traceback": [
      "\u001b[0;31m---------------------------------------------------------------------------\u001b[0m",
      "\u001b[0;31mNameError\u001b[0m                                 Traceback (most recent call last)",
      "Cell \u001b[0;32mIn[10], line 1\u001b[0m\n\u001b[0;32m----> 1\u001b[0m \u001b[38;5;28mtype\u001b[39m(\u001b[43mlista_louca\u001b[49m)\n",
      "\u001b[0;31mNameError\u001b[0m: name 'lista_louca' is not defined"
     ]
    }
   ],
   "source": [
    "type(lista_louca)"
   ]
  },
  {
   "cell_type": "markdown",
   "metadata": {
    "id": "6uBDgmOXnJDn"
   },
   "source": [
    "Eu posso adicionar informações na lista"
   ]
  },
  {
   "cell_type": "code",
   "execution_count": null,
   "metadata": {
    "colab": {
     "base_uri": "https://localhost:8080/"
    },
    "id": "qbgrIkLhnCfs",
    "outputId": "dbb54202-967f-4440-f012-2472fe251065"
   },
   "outputs": [],
   "source": [
    "lista_louca.append(\"Mais um elemento\")\n",
    "lista_louca"
   ]
  },
  {
   "cell_type": "markdown",
   "metadata": {
    "id": "n6ai0NawmXvw"
   },
   "source": [
    "<hr></hr>\n",
    "<div class=\"alert alert-success alertsuccess\" style=\"margin-top: 0px\">\n",
    "<h4> [Tip] Vetores </h4>\n",
    "<p></p>\n",
    "Isso ficará mais claro quanto usarmos a biblioteca NumPy\n",
    "</div>\n",
    "<hr></hr>"
   ]
  },
  {
   "cell_type": "markdown",
   "metadata": {
    "id": "Yoz3YdDRVjHY"
   },
   "source": [
    "## String manipulation"
   ]
  },
  {
   "cell_type": "code",
   "execution_count": null,
   "metadata": {
    "colab": {
     "base_uri": "https://localhost:8080/"
    },
    "id": "Y21G2FMdVl-K",
    "outputId": "8c39102a-a750-4316-9f5b-ed39c3967c09"
   },
   "outputs": [],
   "source": [
    "a = \"ABCD\"\n",
    "b = \"abcd\"\n",
    "\n",
    "c = a+b\n",
    "print(c)\n",
    "\n",
    "c = a + ' , ' + b\n",
    "print(c)"
   ]
  },
  {
   "cell_type": "markdown",
   "metadata": {
    "id": "x4ib8SydWMH4"
   },
   "source": [
    "### Strings são vetores"
   ]
  },
  {
   "cell_type": "code",
   "execution_count": null,
   "metadata": {
    "colab": {
     "base_uri": "https://localhost:8080/"
    },
    "id": "EnDDeWqxWIio",
    "outputId": "f78950c2-ff1c-4eba-ce5a-64d14e450e39"
   },
   "outputs": [],
   "source": [
    "print(c[2])"
   ]
  },
  {
   "cell_type": "code",
   "execution_count": null,
   "metadata": {
    "colab": {
     "base_uri": "https://localhost:8080/"
    },
    "id": "HJYmsgYYV5kK",
    "outputId": "cec32d83-84b1-4c45-cd44-ca6d2340a818"
   },
   "outputs": [],
   "source": [
    "for i in c:\n",
    "  print(i)"
   ]
  },
  {
   "cell_type": "markdown",
   "metadata": {
    "id": "UyPLDDIVm0zj"
   },
   "source": [
    "## Elas têm um tamanho definido"
   ]
  },
  {
   "cell_type": "code",
   "execution_count": null,
   "metadata": {
    "colab": {
     "base_uri": "https://localhost:8080/"
    },
    "id": "V6OVJzPxWXtP",
    "outputId": "66475f0e-a3c8-465c-dbcc-f4e9b1276b10"
   },
   "outputs": [],
   "source": [
    "a = \"Hello World!\"\n",
    "print(len(a))"
   ]
  },
  {
   "cell_type": "markdown",
   "metadata": {
    "id": "h46ckTZRm4VD"
   },
   "source": [
    "## Posso fazer uma busca dentro da string"
   ]
  },
  {
   "cell_type": "code",
   "execution_count": null,
   "metadata": {
    "colab": {
     "base_uri": "https://localhost:8080/"
    },
    "id": "-qCBxrfVWgEa",
    "outputId": "f344f1f5-7451-48c8-e496-2c0936986635"
   },
   "outputs": [],
   "source": [
    "txt = \"A UFPR é a melhor universidade do Paraná!\"\n",
    "print(\"Paraná\" in txt)"
   ]
  },
  {
   "cell_type": "markdown",
   "metadata": {
    "id": "rvPMeJA8W8vp"
   },
   "source": [
    "## Alguns números especiais"
   ]
  },
  {
   "cell_type": "code",
   "execution_count": null,
   "metadata": {
    "id": "ffpcYF8qd2Ef"
   },
   "outputs": [],
   "source": [
    "# importando a nossa primeira biblioteca\n",
    "import numpy as np"
   ]
  },
  {
   "cell_type": "code",
   "execution_count": null,
   "metadata": {
    "colab": {
     "base_uri": "https://localhost:8080/"
    },
    "id": "ewKrMIz3d-Aq",
    "outputId": "de307d0b-f62e-47f3-cf87-59e3479486b7"
   },
   "outputs": [],
   "source": [
    "np.pi"
   ]
  },
  {
   "cell_type": "code",
   "execution_count": 11,
   "metadata": {
    "id": "Sto8Qdt_Juf8"
   },
   "outputs": [
    {
     "ename": "NameError",
     "evalue": "name 'np' is not defined",
     "output_type": "error",
     "traceback": [
      "\u001b[0;31m---------------------------------------------------------------------------\u001b[0m",
      "\u001b[0;31mNameError\u001b[0m                                 Traceback (most recent call last)",
      "Cell \u001b[0;32mIn[11], line 1\u001b[0m\n\u001b[0;32m----> 1\u001b[0m a \u001b[38;5;241m=\u001b[39m \u001b[43mnp\u001b[49m\u001b[38;5;241m.\u001b[39mnan\n",
      "\u001b[0;31mNameError\u001b[0m: name 'np' is not defined"
     ]
    }
   ],
   "source": [
    "a = np.nan"
   ]
  },
  {
   "cell_type": "code",
   "execution_count": null,
   "metadata": {
    "id": "JVW5lSnpfIgh"
   },
   "outputs": [],
   "source": [
    "def area_circulo (raio):\n",
    "  return raio ** 2 * np.pi"
   ]
  },
  {
   "cell_type": "code",
   "execution_count": null,
   "metadata": {
    "colab": {
     "base_uri": "https://localhost:8080/"
    },
    "id": "AsW60JKhfT-Y",
    "outputId": "b287fb11-dabe-4f6d-93fb-59577676d877"
   },
   "outputs": [],
   "source": [
    "area_circulo (10)"
   ]
  },
  {
   "cell_type": "code",
   "execution_count": null,
   "metadata": {
    "colab": {
     "base_uri": "https://localhost:8080/"
    },
    "id": "d4Pvi99TXpgp",
    "outputId": "094bb79f-9ff0-425e-8687-4a1c801a5075"
   },
   "outputs": [],
   "source": [
    "e = np.exp(1)\n",
    "print(e)\n",
    "print(type(e))"
   ]
  },
  {
   "cell_type": "markdown",
   "metadata": {
    "id": "ROfik5mkXgXA"
   },
   "source": [
    "## Números Complexos"
   ]
  },
  {
   "cell_type": "code",
   "execution_count": null,
   "metadata": {
    "colab": {
     "base_uri": "https://localhost:8080/"
    },
    "id": "vC5-58Eid_Xj",
    "outputId": "5038cfbf-8578-4545-f9ee-69b00c48bc22"
   },
   "outputs": [],
   "source": [
    "a = 3j + 2\n",
    "type(a)"
   ]
  },
  {
   "cell_type": "code",
   "execution_count": null,
   "metadata": {
    "colab": {
     "base_uri": "https://localhost:8080/"
    },
    "id": "UO6OHK6SZ_BI",
    "outputId": "dfc4df82-1e83-4604-9817-2e922e2ad4be"
   },
   "outputs": [],
   "source": [
    "b = complex(3,5)\n",
    "print(b)\n",
    "print(type(b))"
   ]
  },
  {
   "cell_type": "markdown",
   "metadata": {},
   "source": [
    "## Listas\n",
    "\n",
    "* Uma lista em Python é uma estrutura de dados que pode armazenar uma coleção de elementos.\n",
    "* Esses elementos podem ser de diferentes tipos e a lista pode ser modificada, ou seja, você pode adicionar, remover ou modificar elementos."
   ]
  },
  {
   "cell_type": "code",
   "execution_count": 13,
   "metadata": {},
   "outputs": [
    {
     "name": "stdout",
     "output_type": "stream",
     "text": [
      "Primeiro número: 1\n"
     ]
    }
   ],
   "source": [
    "# Exemplo de uma lista de números inteiros:\n",
    "numeros = [1, 2, 3, 4, 5]\n",
    "\n",
    "# Exemplo de uma lista de strings:\n",
    "frutas = [\"maçã\", \"banana\", \"laranja\", \"uva\"]\n",
    "\n",
    "# Exemplo de uma lista de tipos diferentes:\n",
    "lista_mista = [10, \"python\", True, 3.14]\n",
    "\n",
    "# Você pode acessar os elementos de uma lista utilizando índices, onde o primeiro elemento tem índice 0.\n",
    "primeiro_numero = numeros[0]\n",
    "print(\"Primeiro número:\", primeiro_numero)"
   ]
  },
  {
   "cell_type": "markdown",
   "metadata": {},
   "source": [
    "## Tamanho da lista"
   ]
  },
  {
   "cell_type": "code",
   "execution_count": 14,
   "metadata": {},
   "outputs": [
    {
     "name": "stdout",
     "output_type": "stream",
     "text": [
      "Tamanho da lista mista: 4\n"
     ]
    }
   ],
   "source": [
    "# Você também pode usar a função len() para obter o tamanho da lista:\n",
    "tamanho_lista_mista = len(lista_mista)\n",
    "print(\"Tamanho da lista mista:\", tamanho_lista_mista)"
   ]
  },
  {
   "cell_type": "markdown",
   "metadata": {},
   "source": [
    "## Modificar elementos de uma lista"
   ]
  },
  {
   "cell_type": "code",
   "execution_count": 15,
   "metadata": {},
   "outputs": [
    {
     "name": "stdout",
     "output_type": "stream",
     "text": [
      "Lista de frutas atualizada: ['pêra', 'banana', 'laranja', 'uva']\n"
     ]
    }
   ],
   "source": [
    "# Você também pode modificar os elementos de uma lista:\n",
    "frutas[0] = \"pêra\"\n",
    "print(\"Lista de frutas atualizada:\", frutas)"
   ]
  },
  {
   "cell_type": "markdown",
   "metadata": {},
   "source": [
    "## Adicionar e excluir elementos de uma lista"
   ]
  },
  {
   "cell_type": "code",
   "execution_count": 16,
   "metadata": {},
   "outputs": [
    {
     "name": "stdout",
     "output_type": "stream",
     "text": [
      "Lista de frutas com novo elemento: ['pêra', 'banana', 'laranja', 'uva', 'morango']\n",
      "Lista de frutas sem o primeiro elemento: ['banana', 'laranja', 'uva', 'morango']\n",
      "Lista de frutas sem laranja: ['banana', 'uva', 'morango']\n"
     ]
    }
   ],
   "source": [
    "# Você pode adicionar elementos a uma lista utilizando o método append():\n",
    "frutas.append(\"morango\")\n",
    "print(\"Lista de frutas com novo elemento:\", frutas)  \n",
    "\n",
    "# Você pode remover elementos de uma lista utilizando a palavra-chave del ou o método remove():\n",
    "del frutas[0]\n",
    "print(\"Lista de frutas sem o primeiro elemento:\", frutas)\n",
    "\n",
    "frutas.remove('laranja')\n",
    "print(\"Lista de frutas sem laranja:\", frutas)  "
   ]
  },
  {
   "cell_type": "markdown",
   "metadata": {},
   "source": [
    "# Tupla\n",
    "\n",
    "* Uma tupla em Python é uma estrutura de dados semelhante a uma lista, mas é imutável, ou seja, não pode ser modificada após a sua criação.\n",
    "* Os elementos de uma tupla são ordenados e podem ser de diferentes tipos.\n"
   ]
  },
  {
   "cell_type": "code",
   "execution_count": 17,
   "metadata": {},
   "outputs": [
    {
     "name": "stdout",
     "output_type": "stream",
     "text": [
      "Primeiro número: 1\n",
      "Tamanho da tupla mista: 4\n"
     ]
    }
   ],
   "source": [
    "# Exemplo de uma tupla de números inteiros:\n",
    "tupla_numeros = (1, 2, 3, 4, 5)\n",
    "\n",
    "# Exemplo de uma tupla de strings:\n",
    "tupla_frutas = (\"maçã\", \"banana\", \"laranja\", \"uva\")\n",
    "\n",
    "# Exemplo de uma tupla de tipos diferentes:\n",
    "tupla_mista = (10, \"python\", True, 3.14)\n",
    "\n",
    "# Você pode acessar os elementos de uma tupla utilizando índices, da mesma forma que em uma lista.\n",
    "primeiro_numero = tupla_numeros[0]\n",
    "print(\"Primeiro número:\", primeiro_numero)  # Saída: Primeiro número: 1\n",
    "\n",
    "# Você também pode utilizar a função len() para obter o tamanho de uma tupla:\n",
    "tamanho_tupla_mista = len(tupla_mista)\n",
    "print(\"Tamanho da tupla mista:\", tamanho_tupla_mista)  # Saída: Tamanho da tupla mista: 4"
   ]
  },
  {
   "cell_type": "markdown",
   "metadata": {},
   "source": [
    "* Você não pode modificar os elementos de uma tupla após a sua criação.\n",
    "* A tentativa de atribuir um novo valor a um elemento resultará em um erro."
   ]
  },
  {
   "cell_type": "code",
   "execution_count": 18,
   "metadata": {},
   "outputs": [
    {
     "ename": "TypeError",
     "evalue": "'tuple' object does not support item assignment",
     "output_type": "error",
     "traceback": [
      "\u001b[0;31m---------------------------------------------------------------------------\u001b[0m",
      "\u001b[0;31mTypeError\u001b[0m                                 Traceback (most recent call last)",
      "Cell \u001b[0;32mIn[18], line 1\u001b[0m\n\u001b[0;32m----> 1\u001b[0m \u001b[43mtupla_frutas\u001b[49m\u001b[43m[\u001b[49m\u001b[38;5;241;43m0\u001b[39;49m\u001b[43m]\u001b[49m \u001b[38;5;241m=\u001b[39m \u001b[38;5;124m\"\u001b[39m\u001b[38;5;124mpêra\u001b[39m\u001b[38;5;124m\"\u001b[39m\n",
      "\u001b[0;31mTypeError\u001b[0m: 'tuple' object does not support item assignment"
     ]
    }
   ],
   "source": [
    "tupla_frutas[0] = \"pêra\""
   ]
  },
  {
   "cell_type": "markdown",
   "metadata": {},
   "source": [
    "## Dicionário\n",
    "\n",
    "* Um dicionário em Python é uma estrutura de dados que armazena pares chave-valor.\n",
    "* Cada chave é única dentro de um dicionário, e ela mapeia para um valor específico.\n"
   ]
  },
  {
   "cell_type": "code",
   "execution_count": 19,
   "metadata": {},
   "outputs": [
    {
     "name": "stdout",
     "output_type": "stream",
     "text": [
      "Idade do Chico: 30\n",
      "Interesses do Chico: {'Métodos Numéricos', 'Futebol', 'Sinuca'}\n",
      "Nova idade do Chico: 35\n"
     ]
    }
   ],
   "source": [
    "# Exemplo de um dicionário de informações de uma pessoa:\n",
    "pessoa = {\n",
    "    \"nome\": \"Chico\",\n",
    "    \"idade\": 30,\n",
    "    \"cidade\": \"Curitiba\",\n",
    "    \"interesses\": {\"Futebol\", \"Sinuca\", \"Métodos Numéricos\"}\n",
    "}\n",
    "\n",
    "# Você pode acessar os valores de um dicionário utilizando suas chaves:\n",
    "idade_chico = pessoa[\"idade\"]\n",
    "print(\"Idade do Chico:\", idade_chico) \n",
    "\n",
    "interesses_chico = pessoa[\"interesses\"]\n",
    "print(\"Interesses do Chico:\", interesses_chico) \n",
    "\n",
    "# Você também pode modificar os valores de um dicionário:\n",
    "pessoa[\"idade\"] = 35\n",
    "print(\"Nova idade do Chico:\", pessoa[\"idade\"])"
   ]
  },
  {
   "cell_type": "markdown",
   "metadata": {
    "id": "MTpKzAgqpeuD"
   },
   "source": [
    "## Autor\n",
    "\n",
    "<a href=\"https://www.linkedin.com/in/eduardopecora/\" target=\"_blank\">Eduardo Pecora</a>\n",
    "\n",
    "## Log de modificações\n",
    "\n",
    "| Data | Versão | Modificado por | Descrição |\n",
    "| ----------------- | ------- | ---------- | ---------------------------------- |\n",
    "| 26-02-2024       | 1.0     | Eduardo Pecora    | Inicial               |\n",
    "| 02-05-2024       | 1.1     | Eduardo Pecora    | listas, tuplas, dict               |\n",
    "\n",
    "<hr>\n",
    "\n",
    "## <h3 align=\"center\"> (c) Eduardo Pécora/ UFPR 2024. All rights reserved. <h3/>\n",
    "\n"
   ]
  },
  {
   "cell_type": "code",
   "execution_count": null,
   "metadata": {},
   "outputs": [],
   "source": []
  }
 ],
 "metadata": {
  "colab": {
   "provenance": []
  },
  "kernelspec": {
   "display_name": "Python 3 (ipykernel)",
   "language": "python",
   "name": "python3"
  },
  "language_info": {
   "codemirror_mode": {
    "name": "ipython",
    "version": 3
   },
   "file_extension": ".py",
   "mimetype": "text/x-python",
   "name": "python",
   "nbconvert_exporter": "python",
   "pygments_lexer": "ipython3",
   "version": "3.10.0"
  }
 },
 "nbformat": 4,
 "nbformat_minor": 4
}
