{
  "nbformat": 4,
  "nbformat_minor": 0,
  "metadata": {
    "colab": {
      "provenance": []
    },
    "kernelspec": {
      "name": "python3",
      "display_name": "Python 3"
    },
    "language_info": {
      "name": "python"
    }
  },
  "cells": [
    {
      "cell_type": "markdown",
      "source": [
        "<left>\n",
        "    <img src=\"http://epecora.com.br/DataFiles/PPGOLD_PPGMNE.png\" width=\"800\" alt=\"PPGOLD Data Science: INTRO\"  />\n",
        "</left>\n",
        "\n",
        "# **Python: Otimização**  \n",
        "\n",
        "## Pyomo - bases\n",
        "\n",
        "* Modelo concreto (fechado)"
      ],
      "metadata": {
        "id": "2EMb_F5hnt5i"
      }
    },
    {
      "cell_type": "code",
      "execution_count": null,
      "metadata": {
        "id": "6tSelxUvAoM4"
      },
      "outputs": [],
      "source": [
        "%%capture\n",
        "!pip install -q pyomo\n",
        "!apt-get install -y -qq glpk-utils"
      ]
    },
    {
      "cell_type": "code",
      "source": [
        "from pyomo.environ import *"
      ],
      "metadata": {
        "id": "GJyY2HVcAqZt"
      },
      "execution_count": null,
      "outputs": []
    },
    {
      "cell_type": "code",
      "source": [
        "model = ConcreteModel()"
      ],
      "metadata": {
        "id": "e7B-53I4A4JR"
      },
      "execution_count": null,
      "outputs": []
    },
    {
      "cell_type": "markdown",
      "source": [],
      "metadata": {
        "id": "ANobA2_DJLiM"
      }
    },
    {
      "cell_type": "markdown",
      "source": [
        "## Primeiro Modelo\n",
        "\n",
        "$$max \\; Z = 40 x + 30 y$$\n",
        "S.a.\n",
        "$$ x \\le 40 $$\n",
        "$$ x + y \\le 80 $$\n",
        "$$ 2x + y \\le 100 $$\n",
        "$$ x,y \\ge 0$$"
      ],
      "metadata": {
        "id": "vfBA6yKRBoCa"
      }
    },
    {
      "cell_type": "code",
      "source": [
        "model.x = Var(domain=NonNegativeReals)\n",
        "model.y = Var(domain=NonNegativeReals)"
      ],
      "metadata": {
        "id": "QOcb272bA6Dl"
      },
      "execution_count": null,
      "outputs": []
    },
    {
      "cell_type": "code",
      "source": [
        "model.objective =\n",
        "Objective(expr = 40*model.x + 30*model.y, sense=maximize)"
      ],
      "metadata": {
        "id": "kSjO316KA8Sp"
      },
      "execution_count": null,
      "outputs": []
    },
    {
      "cell_type": "code",
      "source": [
        "model.demand = Constraint(expr = model.x <= 40)\n",
        "model.laborA = Constraint(expr = model.x + model.y <= 80)\n",
        "model.laborB = Constraint(expr = 2*model.x + model.y <= 100)"
      ],
      "metadata": {
        "id": "985eW5NCA-mT"
      },
      "execution_count": null,
      "outputs": []
    },
    {
      "cell_type": "code",
      "source": [
        "results = SolverFactory('glpk').solve(model)\n",
        "results.write()\n",
        "if results.solver.status == 'ok':\n",
        "    model.pprint()"
      ],
      "metadata": {
        "colab": {
          "base_uri": "https://localhost:8080/"
        },
        "id": "OygfX_OLBBCC",
        "outputId": "610923b5-83f8-420c-bdba-9c7100e94aba"
      },
      "execution_count": null,
      "outputs": [
        {
          "output_type": "stream",
          "name": "stdout",
          "text": [
            "# ==========================================================\n",
            "# = Solver Results                                         =\n",
            "# ==========================================================\n",
            "# ----------------------------------------------------------\n",
            "#   Problem Information\n",
            "# ----------------------------------------------------------\n",
            "Problem: \n",
            "- Name: unknown\n",
            "  Lower bound: 2600.0\n",
            "  Upper bound: 2600.0\n",
            "  Number of objectives: 1\n",
            "  Number of constraints: 3\n",
            "  Number of variables: 2\n",
            "  Number of nonzeros: 5\n",
            "  Sense: maximize\n",
            "# ----------------------------------------------------------\n",
            "#   Solver Information\n",
            "# ----------------------------------------------------------\n",
            "Solver: \n",
            "- Status: ok\n",
            "  Termination condition: optimal\n",
            "  Statistics: \n",
            "    Branch and bound: \n",
            "      Number of bounded subproblems: 0\n",
            "      Number of created subproblems: 0\n",
            "  Error rc: 0\n",
            "  Time: 0.040740966796875\n",
            "# ----------------------------------------------------------\n",
            "#   Solution Information\n",
            "# ----------------------------------------------------------\n",
            "Solution: \n",
            "- number of solutions: 0\n",
            "  number of solutions displayed: 0\n",
            "2 Var Declarations\n",
            "    x : Size=1, Index=None\n",
            "        Key  : Lower : Value : Upper : Fixed : Stale : Domain\n",
            "        None :     0 :  20.0 :  None : False : False : NonNegativeReals\n",
            "    y : Size=1, Index=None\n",
            "        Key  : Lower : Value : Upper : Fixed : Stale : Domain\n",
            "        None :     0 :  60.0 :  None : False : False : NonNegativeReals\n",
            "\n",
            "1 Objective Declarations\n",
            "    objective : Size=1, Index=None, Active=True\n",
            "        Key  : Active : Sense    : Expression\n",
            "        None :   True : maximize : 40*x + 30*y\n",
            "\n",
            "3 Constraint Declarations\n",
            "    demand : Size=1, Index=None, Active=True\n",
            "        Key  : Lower : Body : Upper : Active\n",
            "        None :  -Inf :    x :  40.0 :   True\n",
            "    laborA : Size=1, Index=None, Active=True\n",
            "        Key  : Lower : Body  : Upper : Active\n",
            "        None :  -Inf : x + y :  80.0 :   True\n",
            "    laborB : Size=1, Index=None, Active=True\n",
            "        Key  : Lower : Body    : Upper : Active\n",
            "        None :  -Inf : 2*x + y : 100.0 :   True\n",
            "\n",
            "6 Declarations: x y objective demand laborA laborB\n"
          ]
        }
      ]
    },
    {
      "cell_type": "code",
      "source": [
        "print('Profit = ', model.objective())\n",
        "\n",
        "print('\\nDecision Variables')\n",
        "print('x = ', model.x())\n",
        "print('y = ', model.y())\n",
        "\n",
        "print('\\nConstraints')\n",
        "print('Demand  = ', model.demand())\n",
        "print('Labor A = ', model.laborA())\n",
        "print('Labor B = ', model.laborB())"
      ],
      "metadata": {
        "colab": {
          "base_uri": "https://localhost:8080/"
        },
        "id": "WVPYJO__BGdA",
        "outputId": "4633baea-f3a7-4dc9-960d-222d3e3850be"
      },
      "execution_count": null,
      "outputs": [
        {
          "output_type": "stream",
          "name": "stdout",
          "text": [
            "Profit =  2600.0\n",
            "\n",
            "Decision Variables\n",
            "x =  20.0\n",
            "y =  60.0\n",
            "\n",
            "Constraints\n",
            "Demand  =  20.0\n",
            "Labor A =  80.0\n",
            "Labor B =  100.0\n"
          ]
        }
      ]
    },
    {
      "cell_type": "code",
      "source": [
        "!pyomo help --solvers"
      ],
      "metadata": {
        "id": "jJ8oYQNIBL7J",
        "colab": {
          "base_uri": "https://localhost:8080/"
        },
        "outputId": "fd533864-9d41-44ab-994b-1479fe24e80b"
      },
      "execution_count": null,
      "outputs": [
        {
          "output_type": "stream",
          "name": "stdout",
          "text": [
            "\n",
            "Pyomo Solvers and Solver Managers\n",
            "---------------------------------\n",
            "Pyomo uses 'solver managers' to execute 'solvers' that perform\n",
            "optimization and other forms of model analysis.  A solver directly\n",
            "executes an optimizer, typically using an executable found on the\n",
            "user's PATH environment.  Solver managers support a flexible mechanism\n",
            "for asynchronously executing solvers either locally or remotely.  The\n",
            "following solver managers are available in Pyomo:\n",
            "\n",
            "    neos       Asynchronously execute solvers on the NEOS server\n",
            "    serial     Synchronously execute solvers locally\n",
            "\n",
            "If no solver manager is specified, Pyomo uses the serial solver\n",
            "manager to execute solvers locally.  The neos solver manager is used\n",
            "to execute solvers on the NEOS optimization server.\n",
            "\n",
            "\n",
            "Serial Solver Interfaces\n",
            "------------------------\n",
            "The serial manager supports the following solver interfaces:\n",
            "\n",
            "    appsi_cbc                   Automated persistent interface to Cbc\n",
            "    appsi_cplex                 Automated persistent interface to\n",
            "                                Cplex\n",
            "    appsi_gurobi                Automated persistent interface to\n",
            "                                Gurobi\n",
            "    appsi_highs                 Automated persistent interface to\n",
            "                                Highs\n",
            "    appsi_ipopt                 Automated persistent interface to\n",
            "                                Ipopt\n",
            "    appsi_maingo                Automated persistent interface to\n",
            "                                MAiNGO\n",
            "   *asl                         Interface for solvers using the AMPL\n",
            "                                Solver Library\n",
            "    baron                       The BARON MINLP solver\n",
            "    cbc                         The CBC LP/MIP solver\n",
            "    conopt                      The CONOPT NLP solver\n",
            "    contrib.gjh                 Interface to the AMPL GJH \"solver\"\n",
            "    cp_optimizer                Direct interface to CPLEX CP Optimizer\n",
            "    cplex                       The CPLEX LP/MIP solver\n",
            "    cplex_direct                Direct python interface to CPLEX\n",
            "    cplex_persistent            Persistent python interface to CPLEX\n",
            "    cyipopt                     Cyipopt: direct python bindings to the\n",
            "                                Ipopt NLP solver\n",
            "    gams                        The GAMS modeling language\n",
            "   +gdpopt              22.5.13 The GDPopt decomposition-based\n",
            "                                Generalized Disjunctive Programming\n",
            "                                (GDP) solver\n",
            "   +gdpopt.enumerate    22.5.13 Generalized Disjunctive Programming\n",
            "                                (GDP) solver that enumerates all\n",
            "                                discrete solutions\n",
            "   +gdpopt.gloa         22.5.13 The GLOA (global logic-based outer\n",
            "                                approximation) Generalized Disjunctive\n",
            "                                Programming (GDP) solver\n",
            "   +gdpopt.lbb          22.5.13 The LBB (logic-based branch and bound)\n",
            "                                Generalized Disjunctive Programming\n",
            "                                (GDP) solver\n",
            "   +gdpopt.loa          22.5.13 The LOA (logic-based outer\n",
            "                                approximation) Generalized Disjunctive\n",
            "                                Programming (GDP) solver\n",
            "   +gdpopt.ric          22.5.13 The RIC (relaxation with integer cuts)\n",
            "                                Generalized Disjunctive Programming\n",
            "                                (GDP) solver\n",
            "   +glpk                5.0     The GLPK LP/MIP solver\n",
            "    gurobi                      The GUROBI LP/MIP solver\n",
            "    gurobi_direct               Direct python interface to Gurobi\n",
            "    gurobi_direct_v2            Direct (scipy-based) interface to\n",
            "                                Gurobi (new interface)\n",
            "    gurobi_persistent           Persistent python interface to Gurobi\n",
            "    gurobi_v2                   Persistent interface to Gurobi (new\n",
            "                                interface)\n",
            "    ipopt                       The Ipopt NLP solver\n",
            "    ipopt_v2                    The IPOPT NLP solver (new interface)\n",
            "   +mindtpy             1.0     MindtPy: Mixed-Integer Nonlinear\n",
            "                                Decomposition Toolbox in Pyomo\n",
            "   +mindtpy.ecp         1.0     MindtPy: Mixed-Integer Nonlinear\n",
            "                                Decomposition Toolbox in Pyomo\n",
            "   +mindtpy.fp          1.0     MindtPy: Mixed-Integer Nonlinear\n",
            "                                Decomposition Toolbox in Pyomo\n",
            "   +mindtpy.goa         1.0     MindtPy: Mixed-Integer Nonlinear\n",
            "                                Decomposition Toolbox in Pyomo\n",
            "   +mindtpy.oa          1.0     MindtPy: Mixed-Integer Nonlinear\n",
            "                                Decomposition Toolbox in Pyomo\n",
            "    mosek                       The MOSEK LP/QP/SOCP/MIP solver\n",
            "    mosek_direct                Direct python interface to MOSEK\n",
            "    mosek_persistent            Persistent python interface to MOSEK.\n",
            "   +mpec_minlp                  MPEC solver transforms to a MINLP\n",
            "   +mpec_nlp                    MPEC solver that optimizes a nonlinear\n",
            "                                transformation\n",
            "   +multistart                  MultiStart solver for NLPs\n",
            "    path                        Nonlinear MCP solver\n",
            "   *py                          Direct python solver interfaces\n",
            "    scip                        The SCIP LP/MIP solver\n",
            "   +scipy.fsolve        1.11.4  fsolve: A SciPy wrapper around\n",
            "                                MINPACK's hybrd and hybrj algorithms\n",
            "   +scipy.newton        1.11.4  newton: Find a zero of a scalar-valued\n",
            "                                function\n",
            "   +scipy.root          1.11.4  root: Find the root of a vector\n",
            "                                function\n",
            "   +scipy.secant-newton 1.11.4  secant-newton: Take a few secant\n",
            "                                iterations to try to converge a\n",
            "                                potentially linear equation quickly,\n",
            "                                then switch to Newton's method\n",
            "   +trustregion         0.2     Trust region algorithm \"solver\" for\n",
            "                                black box/glass box optimization\n",
            "    xpress                      The XPRESS LP/MIP solver\n",
            "    xpress_direct               Direct python interface to XPRESS\n",
            "    xpress_persistent           Persistent python interface to Xpress\n",
            "\n",
            "The leading symbol (one of *, -, +) indicates the current solver\n",
            "availability.  A plus (+) indicates the solver is currently available\n",
            "to be run from Pyomo with the serial solver manager, and (if\n",
            "applicable) has a valid license.  A minus (-) indicates the solver\n",
            "executables are available but do not report having a valid license.\n",
            "The solver may still be usable in an unlicensed or \"demo\" mode for\n",
            "limited problem sizes. An asterisk (*) indicates meta-solvers or\n",
            "generic interfaces, which are always available.\n",
            "\n",
            "Pyomo also supports solver interfaces that are wrappers around third-\n",
            "party solver interfaces. These interfaces require a subsolver\n",
            "specification that indicates the solver being executed.  For example,\n",
            "the following indicates that the ipopt solver will be used:\n",
            "\n",
            "   asl:ipopt\n",
            "\n",
            "The asl interface provides a generic wrapper for all solvers that use\n",
            "the AMPL Solver Library.\n",
            "\n",
            "Note that subsolvers can not be enumerated automatically for these\n",
            "interfaces.  However, if a solver is specified that is not found,\n",
            "Pyomo assumes that the asl solver interface is being used.  Thus the\n",
            "following solver name will launch ipopt if the 'ipopt' executable is\n",
            "on the user's path:\n",
            "\n",
            "   ipopt\n",
            "\n",
            "\n",
            "NEOS Solver Interfaces\n",
            "----------------------\n",
            "The neos solver manager supports solver interfaces that can be\n",
            "executed remotely on the NEOS optimization server.  The following\n",
            "solver interfaces are available with your current system\n",
            "configuration:\n",
            "\n",
            "    bonmin       Heuristic MINLP solver\n",
            "    cbc          MILP solver\n",
            "    conopt       Feasible path NLP solver\n",
            "    couenne      Deterministic global MINLP solver\n",
            "    cplex        MILP solver\n",
            "    filmint      Heuristic MINLP solver\n",
            "    filter       SQP NLP solver\n",
            "    ipopt        Interior point NLP solver\n",
            "    knitro       Convex MINLP solver\n",
            "    l-bfgs-b     Bound-constrained NLP solver\n",
            "    lancelot     Augmented Lagrangian NLP solver\n",
            "    lgo          Lipschitz-Continuous Global Optimizer\n",
            "    loqo         Interior point NLP solver\n",
            "    minlp        Heuristic MINLP solver\n",
            "    minos        SLC NLP solver\n",
            "    minto        MILP solver\n",
            "    mosek        Interior point NLP solver\n",
            "    octeract     Deterministic global MINLP solver\n",
            "    ooqp         Convex QP solver\n",
            "    path         Nonlinear MCP solver\n",
            "    raposa       A Global Solver for Polynomial Programming Problems\n",
            "    snopt        SQP NLP solver\n",
            "\n"
          ]
        }
      ]
    },
    {
      "cell_type": "markdown",
      "source": [
        "## Autor\n",
        "\n",
        "<a href=\"https://www.linkedin.com/in/eduardopecora/\" target=\"_blank\">Eduardo Pecora</a>\n",
        "\n",
        "## Log de modificações\n",
        "\n",
        "| Data | Versão | Modificado por | Descrição |\n",
        "| ----------------- | ------- | ---------- | ---------------------------------- |\n",
        "| 20-06-2024       | 1.0     | Eduardo Pecora    | Inicial               |\n",
        "\n",
        "<hr>\n",
        "\n",
        "&copy; Eduardo Pécora 2024"
      ],
      "metadata": {
        "id": "boKMUDcnnrm0"
      }
    },
    {
      "cell_type": "code",
      "source": [],
      "metadata": {
        "id": "fUNjJED-nsaV"
      },
      "execution_count": null,
      "outputs": []
    }
  ]
}