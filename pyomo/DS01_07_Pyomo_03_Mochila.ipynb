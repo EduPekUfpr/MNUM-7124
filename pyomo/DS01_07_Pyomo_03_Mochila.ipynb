{
  "nbformat": 4,
  "nbformat_minor": 0,
  "metadata": {
    "colab": {
      "provenance": []
    },
    "kernelspec": {
      "name": "python3",
      "display_name": "Python 3"
    },
    "language_info": {
      "name": "python"
    }
  },
  "cells": [
    {
      "cell_type": "markdown",
      "source": [
        "<left>\n",
        "    <img src=\"http://epecora.com.br/DataFiles/PPGOLD_PPGMNE.png\" width=\"800\" alt=\"PPGOLD Data Science: INTRO\"  />\n",
        "</left>\n",
        "\n",
        "# **Python: Otimização**  \n",
        "\n",
        "## Problema da mochila"
      ],
      "metadata": {
        "id": "b5sDPfXlnUJ2"
      }
    },
    {
      "cell_type": "code",
      "source": [
        "%%capture\n",
        "!pip install -q pyomo\n",
        "!apt-get install -y -qq glpk-utils\n",
        "\n",
        "import pyomo.environ as pyEnv"
      ],
      "metadata": {
        "id": "5xUxC33SNR8h"
      },
      "execution_count": null,
      "outputs": []
    },
    {
      "cell_type": "code",
      "execution_count": null,
      "metadata": {
        "id": "x85uzt78MwIz"
      },
      "outputs": [],
      "source": [
        "##−−−−−−−−−−−−−−−−−−−−−−−DADOS−−−−−−−−−−−−−−−−−−−−−−−−−−−−−##\n",
        "custos = [ 92 , 57 , 49 , 68 , 60 , 43 , 67 , 84 , 87 , 72]\n",
        "pesos = [ 23 , 31 , 29 , 44 , 53 , 38 , 63 , 85 , 89 , 82]\n",
        "capacidade = 165\n",
        "m = len(lucros)"
      ]
    },
    {
      "cell_type": "markdown",
      "source": [
        "$$ Max z = \\sum_i Lucros_i*x_i $$\n",
        "\n",
        "s.a.\n",
        "\n",
        "$$ \\sum_i pesos_i*x_i \\le capacidade$$\n",
        "$$ x_i \\in \\{0,1\\}$$"
      ],
      "metadata": {
        "id": "K32O5v4nxgBI"
      }
    },
    {
      "cell_type": "code",
      "source": [
        "##−−−−−−−−−−−−−−−−−−−−−−−DECLARACAO DO MODELO−−−−−−−−−−−−−−##\n",
        "modelo = pyEnv.ConcreteModel( )\n",
        "modelo.I = range(m)\n",
        "modelo.x = pyEnv.Var( modelo.I , within = pyEnv.Binary )\n",
        "modelo.objetivo = pyEnv.Objective( expr = sum( lucros[i]*modelo.x[i] for i in modelo.I ) , sense = pyEnv.maximize )\n",
        "modelo.rest = pyEnv.Constraint( expr = sum( pesos[i]*modelo.x[i] for i in modelo.I ) <= capacidade )"
      ],
      "metadata": {
        "id": "kHb6IvmdNH1Y"
      },
      "execution_count": null,
      "outputs": []
    },
    {
      "cell_type": "code",
      "source": [
        "##−−−−−−−−−−−−−−−−−−−−−−−RESOLUCAO DO MODELO−−−−−−−−−−−−−−−##\n",
        "solver = pyEnv.SolverFactory('glpk')\n",
        "resultado_objetivo = solver.solve(modelo , tee = True)"
      ],
      "metadata": {
        "colab": {
          "base_uri": "https://localhost:8080/"
        },
        "id": "zYHcGJc-OJx8",
        "outputId": "4202c6dc-8e2c-4157-84da-dc7a8c7e59f1"
      },
      "execution_count": null,
      "outputs": [
        {
          "output_type": "stream",
          "name": "stdout",
          "text": [
            "GLPSOL--GLPK LP/MIP Solver 5.0\n",
            "Parameter(s) specified in the command line:\n",
            " --write /tmp/tmpvae00uw8.glpk.raw --wglp /tmp/tmp5az3ncb7.glpk.glp --cpxlp\n",
            " /tmp/tmpnz0u6sat.pyomo.lp\n",
            "Reading problem data from '/tmp/tmpnz0u6sat.pyomo.lp'...\n",
            "/tmp/tmpnz0u6sat.pyomo.lp:43: warning: lower bound of variable 'x2' redefined\n",
            "/tmp/tmpnz0u6sat.pyomo.lp:43: warning: upper bound of variable 'x2' redefined\n",
            "1 row, 10 columns, 10 non-zeros\n",
            "10 integer variables, all of which are binary\n",
            "53 lines were read\n",
            "Writing problem data to '/tmp/tmp5az3ncb7.glpk.glp'...\n",
            "35 lines were written\n",
            "GLPK Integer Optimizer 5.0\n",
            "1 row, 10 columns, 10 non-zeros\n",
            "10 integer variables, all of which are binary\n",
            "Preprocessing...\n",
            "1 row, 10 columns, 10 non-zeros\n",
            "10 integer variables, all of which are binary\n",
            "Scaling...\n",
            " A: min|aij| =  2.300e+01  max|aij| =  8.900e+01  ratio =  3.870e+00\n",
            "GM: min|aij| =  1.000e+00  max|aij| =  1.000e+00  ratio =  1.000e+00\n",
            "EQ: min|aij| =  1.000e+00  max|aij| =  1.000e+00  ratio =  1.000e+00\n",
            "2N: min|aij| =  6.875e-01  max|aij| =  1.328e+00  ratio =  1.932e+00\n",
            "Constructing initial basis...\n",
            "Size of triangular part is 1\n",
            "Solving LP relaxation...\n",
            "GLPK Simplex Optimizer 5.0\n",
            "1 row, 10 columns, 10 non-zeros\n",
            "*     0: obj =  -0.000000000e+00 inf =   0.000e+00 (10)\n",
            "*     8: obj =   3.090188679e+02 inf =   0.000e+00 (0)\n",
            "OPTIMAL LP SOLUTION FOUND\n",
            "Integer optimization begins...\n",
            "Long-step dual simplex will be used\n",
            "+     8: mip =     not found yet <=              +inf        (1; 0)\n",
            "+     9: >>>>>   3.090000000e+02 <=   3.090000000e+02   0.0% (2; 0)\n",
            "+     9: mip =   3.090000000e+02 <=     tree is empty   0.0% (0; 3)\n",
            "INTEGER OPTIMAL SOLUTION FOUND\n",
            "Time used:   0.0 secs\n",
            "Memory used: 0.1 Mb (55532 bytes)\n",
            "Writing MIP solution to '/tmp/tmpvae00uw8.glpk.raw'...\n",
            "20 lines were written\n"
          ]
        }
      ]
    },
    {
      "cell_type": "code",
      "source": [
        "##−−−−−−−−−−−−−−PRINT DAS VARIAVEIS DE DECISAO−−−−−−−−−−−−−##\n",
        "lista = list ( modelo.x.keys( ))\n",
        "\n",
        "for i in lista :\n",
        "  print (i , ':' , modelo.x[ i ] ( ) )\n",
        "\n",
        "print ('Valor objetivo = ' , modelo.objetivo ( ) )"
      ],
      "metadata": {
        "colab": {
          "base_uri": "https://localhost:8080/"
        },
        "id": "wI_WSAwcyC9X",
        "outputId": "c7cc3c3d-d3d9-4ddc-b420-289238a7775c"
      },
      "execution_count": null,
      "outputs": [
        {
          "output_type": "stream",
          "name": "stdout",
          "text": [
            "0 : 1.0\n",
            "1 : 1.0\n",
            "2 : 1.0\n",
            "3 : 1.0\n",
            "4 : 0.0\n",
            "5 : 1.0\n",
            "6 : 0.0\n",
            "7 : 0.0\n",
            "8 : 0.0\n",
            "9 : 0.0\n",
            "Valor objetivo =  309.0\n"
          ]
        }
      ]
    },
    {
      "cell_type": "code",
      "source": [
        "modelo.x.display()"
      ],
      "metadata": {
        "colab": {
          "base_uri": "https://localhost:8080/"
        },
        "id": "HBm55l50P7SC",
        "outputId": "880d7340-0555-4419-a651-0dc269556043"
      },
      "execution_count": null,
      "outputs": [
        {
          "output_type": "stream",
          "name": "stdout",
          "text": [
            "x : Size=10, Index={0, 1, 2, 3, 4, 5, 6, 7, 8, 9}\n",
            "    Key : Lower : Value : Upper : Fixed : Stale : Domain\n",
            "      0 :     0 :   1.0 :     1 : False : False : Binary\n",
            "      1 :     0 :   1.0 :     1 : False : False : Binary\n",
            "      2 :     0 :   1.0 :     1 : False : False : Binary\n",
            "      3 :     0 :   1.0 :     1 : False : False : Binary\n",
            "      4 :     0 :   0.0 :     1 : False : False : Binary\n",
            "      5 :     0 :   1.0 :     1 : False : False : Binary\n",
            "      6 :     0 :   0.0 :     1 : False : False : Binary\n",
            "      7 :     0 :   0.0 :     1 : False : False : Binary\n",
            "      8 :     0 :   0.0 :     1 : False : False : Binary\n",
            "      9 :     0 :   0.0 :     1 : False : False : Binary\n"
          ]
        }
      ]
    },
    {
      "cell_type": "code",
      "source": [
        "modelo.rest.display()"
      ],
      "metadata": {
        "colab": {
          "base_uri": "https://localhost:8080/"
        },
        "id": "vOR-sC73QS1e",
        "outputId": "a8320080-73ed-4fe4-80d8-349964dee1a7"
      },
      "execution_count": null,
      "outputs": [
        {
          "output_type": "stream",
          "name": "stdout",
          "text": [
            "rest : Size=1\n",
            "    Key  : Lower : Body  : Upper\n",
            "    None :  None : 165.0 : 165.0\n"
          ]
        }
      ]
    },
    {
      "cell_type": "code",
      "source": [
        "modelo.pprint()"
      ],
      "metadata": {
        "colab": {
          "base_uri": "https://localhost:8080/"
        },
        "id": "kAv4-84YRPPF",
        "outputId": "b9a05ed9-085b-4b69-fa4e-547bcd1a8479"
      },
      "execution_count": null,
      "outputs": [
        {
          "output_type": "stream",
          "name": "stdout",
          "text": [
            "1 Var Declarations\n",
            "    x : Size=10, Index={0, 1, 2, 3, 4, 5, 6, 7, 8, 9}\n",
            "        Key : Lower : Value : Upper : Fixed : Stale : Domain\n",
            "          0 :     0 :   1.0 :     1 : False : False : Binary\n",
            "          1 :     0 :   1.0 :     1 : False : False : Binary\n",
            "          2 :     0 :   1.0 :     1 : False : False : Binary\n",
            "          3 :     0 :   1.0 :     1 : False : False : Binary\n",
            "          4 :     0 :   0.0 :     1 : False : False : Binary\n",
            "          5 :     0 :   1.0 :     1 : False : False : Binary\n",
            "          6 :     0 :   0.0 :     1 : False : False : Binary\n",
            "          7 :     0 :   0.0 :     1 : False : False : Binary\n",
            "          8 :     0 :   0.0 :     1 : False : False : Binary\n",
            "          9 :     0 :   0.0 :     1 : False : False : Binary\n",
            "\n",
            "1 Objective Declarations\n",
            "    objetivo : Size=1, Index=None, Active=True\n",
            "        Key  : Active : Sense    : Expression\n",
            "        None :   True : maximize : 92*x[0] + 57*x[1] + 49*x[2] + 68*x[3] + 60*x[4] + 43*x[5] + 67*x[6] + 84*x[7] + 87*x[8] + 72*x[9]\n",
            "\n",
            "1 Constraint Declarations\n",
            "    rest : Size=1, Index=None, Active=True\n",
            "        Key  : Lower : Body                                                                                              : Upper : Active\n",
            "        None :  -Inf : 23*x[0] + 31*x[1] + 29*x[2] + 44*x[3] + 53*x[4] + 38*x[5] + 63*x[6] + 85*x[7] + 89*x[8] + 82*x[9] : 165.0 :   True\n",
            "\n",
            "3 Declarations: x objetivo rest\n"
          ]
        }
      ]
    },
    {
      "cell_type": "code",
      "source": [
        "modelo.x.pprint()"
      ],
      "metadata": {
        "colab": {
          "base_uri": "https://localhost:8080/"
        },
        "id": "vAEMP4fRRfIK",
        "outputId": "f92f15d5-e674-4873-b433-4fa5c1521766"
      },
      "execution_count": null,
      "outputs": [
        {
          "output_type": "stream",
          "name": "stdout",
          "text": [
            "x : Size=10, Index={0, 1, 2, 3, 4, 5, 6, 7, 8, 9}\n",
            "    Key : Lower : Value : Upper : Fixed : Stale : Domain\n",
            "      0 :     0 :   1.0 :     1 : False : False : Binary\n",
            "      1 :     0 :   1.0 :     1 : False : False : Binary\n",
            "      2 :     0 :   1.0 :     1 : False : False : Binary\n",
            "      3 :     0 :   1.0 :     1 : False : False : Binary\n",
            "      4 :     0 :   0.0 :     1 : False : False : Binary\n",
            "      5 :     0 :   1.0 :     1 : False : False : Binary\n",
            "      6 :     0 :   0.0 :     1 : False : False : Binary\n",
            "      7 :     0 :   0.0 :     1 : False : False : Binary\n",
            "      8 :     0 :   0.0 :     1 : False : False : Binary\n",
            "      9 :     0 :   0.0 :     1 : False : False : Binary\n"
          ]
        }
      ]
    },
    {
      "cell_type": "markdown",
      "source": [
        "## Autor\n",
        "\n",
        "<a href=\"https://www.linkedin.com/in/eduardopecora/\" target=\"_blank\">Eduardo Pecora</a>\n",
        "\n",
        "## Log de modificações\n",
        "\n",
        "| Data | Versão | Modificado por | Descrição |\n",
        "| ----------------- | ------- | ---------- | ---------------------------------- |\n",
        "| 20-06-2024       | 1.0     | Eduardo Pecora    | Inicial               |\n",
        "\n",
        "<hr>\n",
        "\n",
        "&copy; Eduardo Pécora 2024"
      ],
      "metadata": {
        "id": "bnm_yjNFnhjd"
      }
    }
  ]
}