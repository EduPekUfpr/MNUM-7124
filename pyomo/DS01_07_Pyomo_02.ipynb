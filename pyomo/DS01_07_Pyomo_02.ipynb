{
  "nbformat": 4,
  "nbformat_minor": 0,
  "metadata": {
    "colab": {
      "provenance": []
    },
    "kernelspec": {
      "name": "python3",
      "display_name": "Python 3"
    },
    "language_info": {
      "name": "python"
    }
  },
  "cells": [
    {
      "cell_type": "markdown",
      "source": [
        "<left>\n",
        "    <img src=\"http://epecora.com.br/DataFiles/PPGOLD_PPGMNE.png\" width=\"800\" alt=\"PPGOLD Data Science: INTRO\"  />\n",
        "</left>\n",
        "\n",
        "# **Python: Otimização**  \n",
        "\n",
        "## Pyomo\n",
        "\n",
        "* Separação de dados e modelo"
      ],
      "metadata": {
        "id": "S8su646pn9-4"
      }
    },
    {
      "cell_type": "code",
      "execution_count": null,
      "metadata": {
        "id": "UtP3GfxjELOG"
      },
      "outputs": [],
      "source": [
        "%%capture\n",
        "!pip install -q pyomo\n",
        "!apt-get install -y -qq glpk-utils"
      ]
    },
    {
      "cell_type": "code",
      "source": [
        "from pyomo.environ import *\n",
        "import numpy as np\n",
        "\n",
        "# enter data as numpy arrays\n",
        "A = np.array([[1, 0], [1, 1],[2,1]])\n",
        "b = np.array([40, 80, 100])\n",
        "c = np.array([40,30])\n",
        "\n",
        "# set of row indices\n",
        "I = range(len(A))\n",
        "print(I)\n",
        "\n",
        "# set of column indices\n",
        "J = range(len(A.T))\n",
        "print(J)"
      ],
      "metadata": {
        "id": "QovtZDYCENuo",
        "colab": {
          "base_uri": "https://localhost:8080/"
        },
        "outputId": "734564ca-9ad5-4038-8732-df315feb610a"
      },
      "execution_count": null,
      "outputs": [
        {
          "output_type": "stream",
          "name": "stdout",
          "text": [
            "range(0, 3)\n",
            "range(0, 2)\n"
          ]
        }
      ]
    },
    {
      "cell_type": "code",
      "source": [
        "# create a model instance\n",
        "model = ConcreteModel()\n",
        "\n",
        "# create x and y variables in the model\n",
        "model.x = Var(J)\n",
        "\n",
        "# add model constraints\n",
        "model.constraints = ConstraintList()\n",
        "for i in I:\n",
        "    model.constraints.add(sum(A[i,j]*model.x[j] for j in J) <= b[i])\n",
        "\n",
        "# add a model objective\n",
        "model.objective = Objective(expr = sum(c[j]*model.x[j] for j in J),\n",
        "                            sense=maximize)\n",
        "\n",
        "# create a solver\n",
        "solver = SolverFactory('glpk')\n",
        "\n",
        "# solve\n",
        "solver.solve(model)\n",
        "\n",
        "# print solutions\n",
        "for j in J:\n",
        "    print(\"x[\", j, \"] =\", model.x[j].value)"
      ],
      "metadata": {
        "colab": {
          "base_uri": "https://localhost:8080/"
        },
        "id": "rdCEdW1dEpjm",
        "outputId": "c8215020-2b86-48bd-de0a-22efa61ecaba"
      },
      "execution_count": null,
      "outputs": [
        {
          "output_type": "stream",
          "name": "stdout",
          "text": [
            "x[ 0 ] = 20.0\n",
            "x[ 1 ] = 60.0\n"
          ]
        }
      ]
    },
    {
      "cell_type": "code",
      "source": [
        "model.constraints.display()"
      ],
      "metadata": {
        "id": "VhMvw6VSEtMd",
        "colab": {
          "base_uri": "https://localhost:8080/"
        },
        "outputId": "959ad73f-9fea-42a0-d850-08eb05c67fae"
      },
      "execution_count": null,
      "outputs": [
        {
          "output_type": "stream",
          "name": "stdout",
          "text": [
            "constraints : Size=3\n",
            "    Key : Lower : Body  : Upper\n",
            "      1 :  None :  20.0 :  40.0\n",
            "      2 :  None :  80.0 :  80.0\n",
            "      3 :  None : 100.0 : 100.0\n"
          ]
        }
      ]
    },
    {
      "cell_type": "code",
      "source": [
        "model.constraints.pprint()"
      ],
      "metadata": {
        "colab": {
          "base_uri": "https://localhost:8080/"
        },
        "id": "_PiHKu2ru7tb",
        "outputId": "c4336180-b6a8-4eae-c8f5-b5c81cd987fa"
      },
      "execution_count": null,
      "outputs": [
        {
          "output_type": "stream",
          "name": "stdout",
          "text": [
            "constraints : Size=3, Index={1, 2, 3}, Active=True\n",
            "    Key : Lower : Body          : Upper : Active\n",
            "      1 :  -Inf : x[0] + 0*x[1] :  40.0 :   True\n",
            "      2 :  -Inf :   x[0] + x[1] :  80.0 :   True\n",
            "      3 :  -Inf : 2*x[0] + x[1] : 100.0 :   True\n"
          ]
        }
      ]
    },
    {
      "cell_type": "code",
      "source": [
        "model.objective.display()"
      ],
      "metadata": {
        "colab": {
          "base_uri": "https://localhost:8080/"
        },
        "id": "cwe35W19u-De",
        "outputId": "2636a6ea-56f3-41fe-b213-6895d60ca790"
      },
      "execution_count": null,
      "outputs": [
        {
          "output_type": "stream",
          "name": "stdout",
          "text": [
            "objective : Size=1, Index=None, Active=True\n",
            "    Key  : Active : Value\n",
            "    None :   True : 2600.0\n"
          ]
        }
      ]
    },
    {
      "cell_type": "code",
      "source": [
        "model.objective.pprint()"
      ],
      "metadata": {
        "colab": {
          "base_uri": "https://localhost:8080/"
        },
        "id": "azej0jWHvFiX",
        "outputId": "fee21b91-0cbd-4819-e9c0-5b330c17fb8f"
      },
      "execution_count": null,
      "outputs": [
        {
          "output_type": "stream",
          "name": "stdout",
          "text": [
            "objective : Size=1, Index=None, Active=True\n",
            "    Key  : Active : Sense    : Expression\n",
            "    None :   True : maximize : 40*x[0] + 30*x[1]\n"
          ]
        }
      ]
    },
    {
      "cell_type": "code",
      "source": [
        "model.x.display()"
      ],
      "metadata": {
        "colab": {
          "base_uri": "https://localhost:8080/"
        },
        "id": "_vgg6WmZvECV",
        "outputId": "7e906415-278e-4224-be14-ef69228055f5"
      },
      "execution_count": null,
      "outputs": [
        {
          "output_type": "stream",
          "name": "stdout",
          "text": [
            "x : Size=2, Index={0, 1}\n",
            "    Key : Lower : Value : Upper : Fixed : Stale : Domain\n",
            "      0 :  None :  20.0 :  None : False : False :  Reals\n",
            "      1 :  None :  60.0 :  None : False : False :  Reals\n"
          ]
        }
      ]
    },
    {
      "cell_type": "code",
      "source": [
        "model.x.pprint()"
      ],
      "metadata": {
        "colab": {
          "base_uri": "https://localhost:8080/"
        },
        "id": "SvWiGVsIvVhY",
        "outputId": "7ad454c8-5411-4b3f-c211-65f1bcbf8889"
      },
      "execution_count": null,
      "outputs": [
        {
          "output_type": "stream",
          "name": "stdout",
          "text": [
            "x : Size=2, Index={0, 1}\n",
            "    Key : Lower : Value : Upper : Fixed : Stale : Domain\n",
            "      0 :  None :  20.0 :  None : False : False :  Reals\n",
            "      1 :  None :  60.0 :  None : False : False :  Reals\n"
          ]
        }
      ]
    },
    {
      "cell_type": "markdown",
      "source": [
        "## Autor\n",
        "\n",
        "<a href=\"https://www.linkedin.com/in/eduardopecora/\" target=\"_blank\">Eduardo Pecora</a>\n",
        "\n",
        "## Log de modificações\n",
        "\n",
        "| Data | Versão | Modificado por | Descrição |\n",
        "| ----------------- | ------- | ---------- | ---------------------------------- |\n",
        "| 20-06-2024       | 1.0     | Eduardo Pecora    | Inicial               |\n",
        "\n",
        "<hr>\n",
        "\n",
        "&copy; Eduardo Pécora 2024"
      ],
      "metadata": {
        "id": "2aI-it_0oL_Q"
      }
    },
    {
      "cell_type": "code",
      "source": [],
      "metadata": {
        "id": "X74Xih0ooMdu"
      },
      "execution_count": null,
      "outputs": []
    }
  ]
}