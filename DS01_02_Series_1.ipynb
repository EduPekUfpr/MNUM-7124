{
 "cells": [
  {
   "cell_type": "markdown",
   "id": "d528c8f1-02ad-4b14-9b4f-56b8900982da",
   "metadata": {},
   "source": [
    "<p style =\"text-align:center\">\n",
    "    <img src=\"http://epecora.com.br/DataFiles/PPGOLD_PPGMNE.png\" width=\"700\" alt=\"PPGOLD/PPGMNE Python:INTRO\"  />\n",
    "</p>\n",
    "\n",
    "# Introdução ao Pandas\n",
    "### Prof. Eduardo Pécora, Ph.D.\n",
    "\n",
    "Aula 01\n",
    "\n",
    "* Pandas Series\n",
    "* Métodos\n",
    "* Atributos\n",
    "* Index"
   ]
  },
  {
   "cell_type": "code",
   "execution_count": 1,
   "id": "a746e294",
   "metadata": {},
   "outputs": [],
   "source": [
    "import pandas as pd\n",
    "import numpy as np"
   ]
  },
  {
   "cell_type": "code",
   "execution_count": 2,
   "id": "63ffdd0b",
   "metadata": {},
   "outputs": [
    {
     "data": {
      "text/plain": [
       "'2.1.4'"
      ]
     },
     "execution_count": 2,
     "metadata": {},
     "output_type": "execute_result"
    }
   ],
   "source": [
    "pd.__version__"
   ]
  },
  {
   "cell_type": "markdown",
   "id": "f7d678e9",
   "metadata": {},
   "source": [
    "## Tipos em Pandas"
   ]
  },
  {
   "cell_type": "code",
   "execution_count": 3,
   "id": "94e4832d",
   "metadata": {},
   "outputs": [
    {
     "name": "stdout",
     "output_type": "stream",
     "text": [
      "<class 'list'>\n"
     ]
    },
    {
     "data": {
      "text/plain": [
       "0         Maçã\n",
       "1       Banana\n",
       "2     Graviola\n",
       "3         Umbu\n",
       "4    Carambola\n",
       "5         Jaca\n",
       "dtype: object"
      ]
     },
     "execution_count": 3,
     "metadata": {},
     "output_type": "execute_result"
    }
   ],
   "source": [
    "# Isto é uma lista\n",
    "frutas = [\"Maçã\", \"Banana\", \"Graviola\", \"Umbu\", \"Carambola\", \"Jaca\"] # Lista\n",
    "print(type(frutas))\n",
    "\n",
    "#Mas, isto é uma série Pandas\n",
    "pd.Series(frutas)"
   ]
  },
  {
   "cell_type": "code",
   "execution_count": 4,
   "id": "59ad40c1",
   "metadata": {},
   "outputs": [
    {
     "data": {
      "text/plain": [
       "0     3\n",
       "1    12\n",
       "2    27\n",
       "3    30\n",
       "4    45\n",
       "5    59\n",
       "dtype: int64"
      ]
     },
     "execution_count": 4,
     "metadata": {},
     "output_type": "execute_result"
    }
   ],
   "source": [
    "#Mesmo princípio se aplica para listas numéricas\n",
    "megaSena = [3, 12, 27, 30, 45, 59]\n",
    "pd.Series(megaSena)"
   ]
  },
  {
   "cell_type": "code",
   "execution_count": 5,
   "id": "3f09f3d3",
   "metadata": {},
   "outputs": [
    {
     "data": {
      "text/plain": [
       "0     True\n",
       "1    False\n",
       "2     True\n",
       "3     True\n",
       "4     True\n",
       "5    False\n",
       "6    False\n",
       "dtype: bool"
      ]
     },
     "execution_count": 5,
     "metadata": {},
     "output_type": "execute_result"
    }
   ],
   "source": [
    "#Mesmo princípio se aplica para listas booleanas\n",
    "evento = [True, False, True, True, True, False, False]\n",
    "pd.Series(evento)"
   ]
  },
  {
   "cell_type": "code",
   "execution_count": 6,
   "id": "39e2a859",
   "metadata": {},
   "outputs": [
    {
     "data": {
      "text/plain": [
       "0    12.3\n",
       "1    45.0\n",
       "2    23.6\n",
       "3    92.2\n",
       "4     0.0\n",
       "dtype: float64"
      ]
     },
     "execution_count": 6,
     "metadata": {},
     "output_type": "execute_result"
    }
   ],
   "source": [
    "#Mesmo princípio se aplica para listas reais (float)\n",
    "volume = [12.3, 45, 23.6, 92.2,0]\n",
    "pd.Series(volume)"
   ]
  },
  {
   "cell_type": "code",
   "execution_count": 7,
   "id": "62a11374",
   "metadata": {},
   "outputs": [
    {
     "name": "stdout",
     "output_type": "stream",
     "text": [
      "<class 'dict'>\n"
     ]
    },
    {
     "data": {
      "text/plain": [
       "Athletico Paranaense    PR\n",
       "Flamengo                RJ\n",
       "São Paulo               SP\n",
       "dtype: object"
      ]
     },
     "execution_count": 7,
     "metadata": {},
     "output_type": "execute_result"
    }
   ],
   "source": [
    "#Mesmo princípio se aplica para dicionários\n",
    "time = {\n",
    "    \"Athletico Paranaense\": \"PR\",\n",
    "    \"Flamengo\": \"RJ\",\n",
    "    \"São Paulo\": \"SP\"\n",
    "}\n",
    "print(type(time))\n",
    "pd.Series(time)"
   ]
  },
  {
   "cell_type": "markdown",
   "id": "ce5d8f4f",
   "metadata": {},
   "source": [
    "## Métodos em Pandas\n",
    "\n",
    "Em Pandas, os métodos são funções que podem ser aplicadas a objetos DataFrame ou Series para realizar diversas operações de manipulação e análise de dados. Estes são alguns dos principais métodos em Pandas:\n",
    "\n",
    "* `head()` e `tail()`: Retornam as primeiras ou últimas linhas do DataFrame, respectivamente.\n",
    "* `info()`: Fornece informações sobre o DataFrame, incluindo o tipo de dados de cada coluna e se há valores nulos.\n",
    "* `sum()`: Retorna a soma dos valores\n",
    "* `mean()`: retorna a média dos valores\n",
    "* `describe()`: Gera estatísticas descritivas resumidas para colunas numéricas do DataFrame, como média, desvio padrão e quartis.\n",
    "* `unique()`: Retorna os valores únicos em uma Series.\n",
    "* `value_counts()`: Conta a frequência de cada valor único em uma Series.\n",
    "* `groupby()`: Agrupa os dados com base em uma ou mais colunas e permite a aplicação de funções agregadas.\n",
    "* `pivot_table()`: Cria uma tabela dinâmica a partir dos dados do DataFrame.\n",
    "* `drop_duplicates()`: Remove linhas duplicadas do DataFrame.\n",
    "\n",
    "Esses são apenas alguns exemplos dos métodos mais comuns em Pandas. Existem muitos outros métodos disponíveis para realizar uma variedade de operações de manipulação e análise de dados. Para mais informações veja a documentação do Pandas.\n",
    "\n",
    "De modo genérico um método é uma função aplicada em um objeto. Seguem alguns exemplos de métodos em String e Listas."
   ]
  },
  {
   "cell_type": "code",
   "execution_count": 8,
   "id": "36e17bdc",
   "metadata": {},
   "outputs": [
    {
     "data": {
      "text/plain": [
       "'HELLO'"
      ]
     },
     "execution_count": 8,
     "metadata": {},
     "output_type": "execute_result"
    }
   ],
   "source": [
    "# Método em STRING\n",
    "\"hello\".upper()"
   ]
  },
  {
   "cell_type": "code",
   "execution_count": 9,
   "id": "54813189",
   "metadata": {},
   "outputs": [
    {
     "data": {
      "text/plain": [
       "[1, 2, 3, 4]"
      ]
     },
     "execution_count": 9,
     "metadata": {},
     "output_type": "execute_result"
    }
   ],
   "source": [
    "# Método em Listas\n",
    "values = [1,2,3]\n",
    "values.append(4)\n",
    "values"
   ]
  },
  {
   "cell_type": "code",
   "execution_count": 10,
   "id": "015bd566",
   "metadata": {},
   "outputs": [],
   "source": [
    "# Métodos em Pandas\n",
    "preços = pd.Series([1.99, 3.00, 5.31])"
   ]
  },
  {
   "cell_type": "code",
   "execution_count": 11,
   "id": "228f56d5",
   "metadata": {},
   "outputs": [
    {
     "data": {
      "text/plain": [
       "10.3"
      ]
     },
     "execution_count": 11,
     "metadata": {},
     "output_type": "execute_result"
    }
   ],
   "source": [
    "preços.sum()"
   ]
  },
  {
   "cell_type": "code",
   "execution_count": 12,
   "id": "478b21bf",
   "metadata": {},
   "outputs": [
    {
     "data": {
      "text/plain": [
       "3.4333333333333336"
      ]
     },
     "execution_count": 12,
     "metadata": {},
     "output_type": "execute_result"
    }
   ],
   "source": [
    "preços.mean()"
   ]
  },
  {
   "cell_type": "markdown",
   "id": "22c9249b",
   "metadata": {},
   "source": [
    "## Atributos em Pandas\n",
    "\n",
    "Os atributos são características dos objetos DataFrame ou Series que fornecem informações sobre seus dados. Aqui estão alguns atributos comuns em Pandas, juntamente com exemplos de uso:\n",
    "\n",
    "* `shape`: Retorna uma tupla representando a forma (número de linhas, número de colunas) do DataFrame.\n",
    "* `columns`: Retorna uma lista dos rótulos das colunas do DataFrame.\n",
    "* `index`: Retorna o índice (rótulos de linha) do DataFrame.\n",
    "* `is_unique`: Retorna valor `True` caso não existam elementos repetidos e `False` caso contrário. \n",
    "* `dtypes`: Retorna uma série com os tipos de dados das colunas do DataFrame.\n",
    "* `values`: Retorna uma matriz NumPy que representa os dados contidos no DataFrame.\n",
    "* `empty`: Retorna True se o DataFrame estiver vazio (sem linhas ou colunas), caso contrário, retorna False.\n",
    "* `size`: Retorna o número total de elementos no DataFrame (número de células).\n",
    "\n",
    "Esses são apenas alguns exemplos de atributos em Pandas que podem ser úteis para obter informações sobre seus dados."
   ]
  },
  {
   "cell_type": "code",
   "execution_count": 13,
   "id": "42104c5c",
   "metadata": {},
   "outputs": [
    {
     "data": {
      "text/plain": [
       "0    inteligente\n",
       "1          lindo\n",
       "2       charmoso\n",
       "3       brilante\n",
       "4        honesto\n",
       "5        modesto\n",
       "dtype: object"
      ]
     },
     "execution_count": 13,
     "metadata": {},
     "output_type": "execute_result"
    }
   ],
   "source": [
    "adjetivos = pd.Series([\"inteligente\", \"lindo\", \"charmoso\", \"brilante\", \"honesto\", \"modesto\"])\n",
    "adjetivos"
   ]
  },
  {
   "cell_type": "code",
   "execution_count": 14,
   "id": "b5abe033-eaf5-424b-96eb-7f5467232108",
   "metadata": {},
   "outputs": [
    {
     "data": {
      "text/plain": [
       "pandas.core.series.Series"
      ]
     },
     "execution_count": 14,
     "metadata": {},
     "output_type": "execute_result"
    }
   ],
   "source": [
    "type(adjetivos)"
   ]
  },
  {
   "cell_type": "code",
   "execution_count": 15,
   "id": "48249c58",
   "metadata": {},
   "outputs": [
    {
     "data": {
      "text/plain": [
       "6"
      ]
     },
     "execution_count": 15,
     "metadata": {},
     "output_type": "execute_result"
    }
   ],
   "source": [
    "adjetivos.size"
   ]
  },
  {
   "cell_type": "code",
   "execution_count": 16,
   "id": "6db5f3eb",
   "metadata": {},
   "outputs": [
    {
     "data": {
      "text/plain": [
       "True"
      ]
     },
     "execution_count": 16,
     "metadata": {},
     "output_type": "execute_result"
    }
   ],
   "source": [
    "adjetivos.is_unique"
   ]
  },
  {
   "cell_type": "code",
   "execution_count": 17,
   "id": "4957991b",
   "metadata": {},
   "outputs": [
    {
     "data": {
      "text/plain": [
       "False"
      ]
     },
     "execution_count": 17,
     "metadata": {},
     "output_type": "execute_result"
    }
   ],
   "source": [
    "adjetivos = pd.Series([\"inteligente\", \"lindo\", \"charmoso\", \"brilante\", \"honesto\", \"modesto\", \"modesto\"])\n",
    "adjetivos.is_unique"
   ]
  },
  {
   "cell_type": "code",
   "execution_count": 18,
   "id": "4e77140e",
   "metadata": {},
   "outputs": [
    {
     "data": {
      "text/plain": [
       "(7,)"
      ]
     },
     "execution_count": 18,
     "metadata": {},
     "output_type": "execute_result"
    }
   ],
   "source": [
    "adjetivos.shape"
   ]
  },
  {
   "cell_type": "code",
   "execution_count": 19,
   "id": "7cf799e1",
   "metadata": {},
   "outputs": [
    {
     "data": {
      "text/plain": [
       "array(['inteligente', 'lindo', 'charmoso', 'brilante', 'honesto',\n",
       "       'modesto', 'modesto'], dtype=object)"
      ]
     },
     "execution_count": 19,
     "metadata": {},
     "output_type": "execute_result"
    }
   ],
   "source": [
    "adjetivos.values"
   ]
  },
  {
   "cell_type": "code",
   "execution_count": 20,
   "id": "02365c92",
   "metadata": {},
   "outputs": [
    {
     "data": {
      "text/plain": [
       "numpy.ndarray"
      ]
     },
     "execution_count": 20,
     "metadata": {},
     "output_type": "execute_result"
    }
   ],
   "source": [
    "type(adjetivos.values)"
   ]
  },
  {
   "cell_type": "code",
   "execution_count": 21,
   "id": "d23f66d4",
   "metadata": {},
   "outputs": [
    {
     "data": {
      "text/plain": [
       "RangeIndex(start=0, stop=7, step=1)"
      ]
     },
     "execution_count": 21,
     "metadata": {},
     "output_type": "execute_result"
    }
   ],
   "source": [
    "adjetivos.index"
   ]
  },
  {
   "cell_type": "code",
   "execution_count": 22,
   "id": "e6669577",
   "metadata": {},
   "outputs": [
    {
     "data": {
      "text/plain": [
       "dtype('O')"
      ]
     },
     "execution_count": 22,
     "metadata": {},
     "output_type": "execute_result"
    }
   ],
   "source": [
    "adjetivos.dtype"
   ]
  },
  {
   "cell_type": "markdown",
   "id": "6a96467f",
   "metadata": {},
   "source": [
    "## Index\n",
    "\n",
    "Em Pandas, os índices são os rótulos associados às linhas e colunas de um DataFrame ou Series. Eles são essenciais para identificar e acessar os dados armazenados nos objetos Pandas. Existem dois tipos principais de índices em Pandas:\n",
    "\n",
    "* Índice de Linha (Index)\n",
    "* Índice de Coluna (Column Index)"
   ]
  },
  {
   "cell_type": "code",
   "execution_count": 23,
   "id": "939720c6",
   "metadata": {},
   "outputs": [],
   "source": [
    "frutas = [\"Maçã\", \"Banana\", \"Graviola\", \"Umbu\", \"Carambola\", \"Jaca\", \"Laranja\"]\n",
    "diasSemana = [\"Segunda-feira\",\"Terça-feira\",\"Quarta-feira\",\"Quinta-feira\",\"Sexta-feira\",\"Sabado\",\"Domingo\"]"
   ]
  },
  {
   "cell_type": "code",
   "execution_count": 24,
   "id": "a310fcdf",
   "metadata": {},
   "outputs": [
    {
     "data": {
      "text/plain": [
       "Series([], dtype: object)"
      ]
     },
     "execution_count": 24,
     "metadata": {},
     "output_type": "execute_result"
    }
   ],
   "source": [
    "pd.Series()"
   ]
  },
  {
   "cell_type": "code",
   "execution_count": 25,
   "id": "40157ab2",
   "metadata": {},
   "outputs": [],
   "source": [
    "a=pd.Series(frutas, diasSemana)"
   ]
  },
  {
   "cell_type": "code",
   "execution_count": 26,
   "id": "b9ab6684-3e25-4944-b21f-0ffe41af1b4a",
   "metadata": {},
   "outputs": [
    {
     "name": "stdout",
     "output_type": "stream",
     "text": [
      "Segunda-feira         Maçã\n",
      "Terça-feira         Banana\n",
      "Quarta-feira      Graviola\n",
      "Quinta-feira          Umbu\n",
      "Sexta-feira      Carambola\n",
      "Sabado                Jaca\n",
      "Domingo            Laranja\n",
      "dtype: object\n",
      "<class 'pandas.core.series.Series'>\n",
      "7\n",
      "Maçã\n",
      "Maçã\n"
     ]
    }
   ],
   "source": [
    "print(a)\n",
    "print(type(a))\n",
    "print(len(a))\n",
    "print(a.iloc[0])\n",
    "print(a[\"Segunda-feira\"])"
   ]
  },
  {
   "cell_type": "code",
   "execution_count": 27,
   "id": "fc570371",
   "metadata": {},
   "outputs": [],
   "source": [
    "b=pd.Series(diasSemana, frutas)"
   ]
  },
  {
   "cell_type": "code",
   "execution_count": 28,
   "id": "b6e43dd1-7baf-4bed-b5c3-4b4ecaa9744b",
   "metadata": {},
   "outputs": [
    {
     "name": "stdout",
     "output_type": "stream",
     "text": [
      "Maçã         Segunda-feira\n",
      "Banana         Terça-feira\n",
      "Graviola      Quarta-feira\n",
      "Umbu          Quinta-feira\n",
      "Carambola      Sexta-feira\n",
      "Jaca                Sabado\n",
      "Laranja            Domingo\n",
      "dtype: object\n",
      "<class 'pandas.core.series.Series'>\n",
      "7\n",
      "Segunda-feira\n",
      "Quarta-feira\n"
     ]
    }
   ],
   "source": [
    "print(b)\n",
    "print(type(b))\n",
    "print(len(b))\n",
    "print(b.iloc[0])\n",
    "print(b[\"Graviola\"])"
   ]
  },
  {
   "cell_type": "code",
   "execution_count": 29,
   "id": "ff38fd1a",
   "metadata": {},
   "outputs": [],
   "source": [
    "c=pd.Series(index = diasSemana, data = frutas)"
   ]
  },
  {
   "cell_type": "code",
   "execution_count": 35,
   "id": "9b7436cf-d0a5-4b65-b929-cccf166ef642",
   "metadata": {},
   "outputs": [
    {
     "name": "stdout",
     "output_type": "stream",
     "text": [
      "Segunda-feira         Maçã\n",
      "Terça-feira         Banana\n",
      "Quarta-feira      Graviola\n",
      "Quinta-feira          Umbu\n",
      "Sexta-feira      Carambola\n",
      "Sabado                Jaca\n",
      "Domingo            Laranja\n",
      "dtype: object\n",
      "<class 'pandas.core.series.Series'>\n",
      "7\n",
      "Maçã\n"
     ]
    },
    {
     "ename": "KeyError",
     "evalue": "'Jaca'",
     "output_type": "error",
     "traceback": [
      "\u001b[0;31m---------------------------------------------------------------------------\u001b[0m",
      "\u001b[0;31mKeyError\u001b[0m                                  Traceback (most recent call last)",
      "File \u001b[0;32m/opt/anaconda3/envs/ppgold/lib/python3.12/site-packages/pandas/core/indexes/base.py:3791\u001b[0m, in \u001b[0;36mIndex.get_loc\u001b[0;34m(self, key)\u001b[0m\n\u001b[1;32m   3790\u001b[0m \u001b[38;5;28;01mtry\u001b[39;00m:\n\u001b[0;32m-> 3791\u001b[0m     \u001b[38;5;28;01mreturn\u001b[39;00m \u001b[38;5;28mself\u001b[39m\u001b[38;5;241m.\u001b[39m_engine\u001b[38;5;241m.\u001b[39mget_loc(casted_key)\n\u001b[1;32m   3792\u001b[0m \u001b[38;5;28;01mexcept\u001b[39;00m \u001b[38;5;167;01mKeyError\u001b[39;00m \u001b[38;5;28;01mas\u001b[39;00m err:\n",
      "File \u001b[0;32mindex.pyx:152\u001b[0m, in \u001b[0;36mpandas._libs.index.IndexEngine.get_loc\u001b[0;34m()\u001b[0m\n",
      "File \u001b[0;32mindex.pyx:181\u001b[0m, in \u001b[0;36mpandas._libs.index.IndexEngine.get_loc\u001b[0;34m()\u001b[0m\n",
      "File \u001b[0;32mpandas/_libs/hashtable_class_helper.pxi:7080\u001b[0m, in \u001b[0;36mpandas._libs.hashtable.PyObjectHashTable.get_item\u001b[0;34m()\u001b[0m\n",
      "File \u001b[0;32mpandas/_libs/hashtable_class_helper.pxi:7088\u001b[0m, in \u001b[0;36mpandas._libs.hashtable.PyObjectHashTable.get_item\u001b[0;34m()\u001b[0m\n",
      "\u001b[0;31mKeyError\u001b[0m: 'Jaca'",
      "\nThe above exception was the direct cause of the following exception:\n",
      "\u001b[0;31mKeyError\u001b[0m                                  Traceback (most recent call last)",
      "Cell \u001b[0;32mIn[35], line 5\u001b[0m\n\u001b[1;32m      3\u001b[0m \u001b[38;5;28mprint\u001b[39m(\u001b[38;5;28mlen\u001b[39m(c))\n\u001b[1;32m      4\u001b[0m \u001b[38;5;28mprint\u001b[39m(c\u001b[38;5;241m.\u001b[39miloc[\u001b[38;5;241m0\u001b[39m])\n\u001b[0;32m----> 5\u001b[0m \u001b[38;5;28mprint\u001b[39m(c[\u001b[38;5;124m\"\u001b[39m\u001b[38;5;124mJaca\u001b[39m\u001b[38;5;124m\"\u001b[39m])\n",
      "File \u001b[0;32m/opt/anaconda3/envs/ppgold/lib/python3.12/site-packages/pandas/core/series.py:1040\u001b[0m, in \u001b[0;36mSeries.__getitem__\u001b[0;34m(self, key)\u001b[0m\n\u001b[1;32m   1037\u001b[0m     \u001b[38;5;28;01mreturn\u001b[39;00m \u001b[38;5;28mself\u001b[39m\u001b[38;5;241m.\u001b[39m_values[key]\n\u001b[1;32m   1039\u001b[0m \u001b[38;5;28;01melif\u001b[39;00m key_is_scalar:\n\u001b[0;32m-> 1040\u001b[0m     \u001b[38;5;28;01mreturn\u001b[39;00m \u001b[38;5;28mself\u001b[39m\u001b[38;5;241m.\u001b[39m_get_value(key)\n\u001b[1;32m   1042\u001b[0m \u001b[38;5;66;03m# Convert generator to list before going through hashable part\u001b[39;00m\n\u001b[1;32m   1043\u001b[0m \u001b[38;5;66;03m# (We will iterate through the generator there to check for slices)\u001b[39;00m\n\u001b[1;32m   1044\u001b[0m \u001b[38;5;28;01mif\u001b[39;00m is_iterator(key):\n",
      "File \u001b[0;32m/opt/anaconda3/envs/ppgold/lib/python3.12/site-packages/pandas/core/series.py:1156\u001b[0m, in \u001b[0;36mSeries._get_value\u001b[0;34m(self, label, takeable)\u001b[0m\n\u001b[1;32m   1153\u001b[0m     \u001b[38;5;28;01mreturn\u001b[39;00m \u001b[38;5;28mself\u001b[39m\u001b[38;5;241m.\u001b[39m_values[label]\n\u001b[1;32m   1155\u001b[0m \u001b[38;5;66;03m# Similar to Index.get_value, but we do not fall back to positional\u001b[39;00m\n\u001b[0;32m-> 1156\u001b[0m loc \u001b[38;5;241m=\u001b[39m \u001b[38;5;28mself\u001b[39m\u001b[38;5;241m.\u001b[39mindex\u001b[38;5;241m.\u001b[39mget_loc(label)\n\u001b[1;32m   1158\u001b[0m \u001b[38;5;28;01mif\u001b[39;00m is_integer(loc):\n\u001b[1;32m   1159\u001b[0m     \u001b[38;5;28;01mreturn\u001b[39;00m \u001b[38;5;28mself\u001b[39m\u001b[38;5;241m.\u001b[39m_values[loc]\n",
      "File \u001b[0;32m/opt/anaconda3/envs/ppgold/lib/python3.12/site-packages/pandas/core/indexes/base.py:3798\u001b[0m, in \u001b[0;36mIndex.get_loc\u001b[0;34m(self, key)\u001b[0m\n\u001b[1;32m   3793\u001b[0m     \u001b[38;5;28;01mif\u001b[39;00m \u001b[38;5;28misinstance\u001b[39m(casted_key, \u001b[38;5;28mslice\u001b[39m) \u001b[38;5;129;01mor\u001b[39;00m (\n\u001b[1;32m   3794\u001b[0m         \u001b[38;5;28misinstance\u001b[39m(casted_key, abc\u001b[38;5;241m.\u001b[39mIterable)\n\u001b[1;32m   3795\u001b[0m         \u001b[38;5;129;01mand\u001b[39;00m \u001b[38;5;28many\u001b[39m(\u001b[38;5;28misinstance\u001b[39m(x, \u001b[38;5;28mslice\u001b[39m) \u001b[38;5;28;01mfor\u001b[39;00m x \u001b[38;5;129;01min\u001b[39;00m casted_key)\n\u001b[1;32m   3796\u001b[0m     ):\n\u001b[1;32m   3797\u001b[0m         \u001b[38;5;28;01mraise\u001b[39;00m InvalidIndexError(key)\n\u001b[0;32m-> 3798\u001b[0m     \u001b[38;5;28;01mraise\u001b[39;00m \u001b[38;5;167;01mKeyError\u001b[39;00m(key) \u001b[38;5;28;01mfrom\u001b[39;00m \u001b[38;5;21;01merr\u001b[39;00m\n\u001b[1;32m   3799\u001b[0m \u001b[38;5;28;01mexcept\u001b[39;00m \u001b[38;5;167;01mTypeError\u001b[39;00m:\n\u001b[1;32m   3800\u001b[0m     \u001b[38;5;66;03m# If we have a listlike key, _check_indexing_error will raise\u001b[39;00m\n\u001b[1;32m   3801\u001b[0m     \u001b[38;5;66;03m#  InvalidIndexError. Otherwise we fall through and re-raise\u001b[39;00m\n\u001b[1;32m   3802\u001b[0m     \u001b[38;5;66;03m#  the TypeError.\u001b[39;00m\n\u001b[1;32m   3803\u001b[0m     \u001b[38;5;28mself\u001b[39m\u001b[38;5;241m.\u001b[39m_check_indexing_error(key)\n",
      "\u001b[0;31mKeyError\u001b[0m: 'Jaca'"
     ]
    }
   ],
   "source": [
    "print(c)\n",
    "print(type(c))\n",
    "print(len(c))\n",
    "print(c.iloc[0])\n",
    "print(c[\"Jaca\"]) #erro"
   ]
  },
  {
   "cell_type": "markdown",
   "id": "2b2082cd-65cb-4f33-846c-5f4e4a6ee897",
   "metadata": {},
   "source": [
    "## Erro de dimensões"
   ]
  },
  {
   "cell_type": "code",
   "execution_count": 36,
   "id": "db656b93",
   "metadata": {},
   "outputs": [],
   "source": [
    "frutas = [\"Maçã\", \"Banana\", \"Graviola\", \"Umbu\", \"Carambola\", \"Jaca\", \"Laranja\"]\n",
    "diasSemana = [\"Segunda-feira\",\"Terça-feira\",\"Quarta-feira\",\"Quinta-feira\",\"Sexta-feira\",\"Sabado\"]"
   ]
  },
  {
   "cell_type": "code",
   "execution_count": 37,
   "id": "8f7a3a99",
   "metadata": {},
   "outputs": [
    {
     "data": {
      "text/plain": [
       "7"
      ]
     },
     "execution_count": 37,
     "metadata": {},
     "output_type": "execute_result"
    }
   ],
   "source": [
    "len(frutas)"
   ]
  },
  {
   "cell_type": "code",
   "execution_count": 38,
   "id": "8a780790",
   "metadata": {},
   "outputs": [
    {
     "data": {
      "text/plain": [
       "6"
      ]
     },
     "execution_count": 38,
     "metadata": {},
     "output_type": "execute_result"
    }
   ],
   "source": [
    "len(diasSemana)"
   ]
  },
  {
   "cell_type": "code",
   "execution_count": 39,
   "id": "fd3edff6",
   "metadata": {},
   "outputs": [
    {
     "ename": "ValueError",
     "evalue": "Length of values (7) does not match length of index (6)",
     "output_type": "error",
     "traceback": [
      "\u001b[0;31m---------------------------------------------------------------------------\u001b[0m",
      "\u001b[0;31mValueError\u001b[0m                                Traceback (most recent call last)",
      "Cell \u001b[0;32mIn[39], line 1\u001b[0m\n\u001b[0;32m----> 1\u001b[0m pd\u001b[38;5;241m.\u001b[39mSeries(index \u001b[38;5;241m=\u001b[39m diasSemana, data \u001b[38;5;241m=\u001b[39m frutas)\n",
      "File \u001b[0;32m/opt/anaconda3/envs/ppgold/lib/python3.12/site-packages/pandas/core/series.py:503\u001b[0m, in \u001b[0;36mSeries.__init__\u001b[0;34m(self, data, index, dtype, name, copy, fastpath)\u001b[0m\n\u001b[1;32m    501\u001b[0m     index \u001b[38;5;241m=\u001b[39m default_index(\u001b[38;5;28mlen\u001b[39m(data))\n\u001b[1;32m    502\u001b[0m \u001b[38;5;28;01melif\u001b[39;00m is_list_like(data):\n\u001b[0;32m--> 503\u001b[0m     com\u001b[38;5;241m.\u001b[39mrequire_length_match(data, index)\n\u001b[1;32m    505\u001b[0m \u001b[38;5;66;03m# create/copy the manager\u001b[39;00m\n\u001b[1;32m    506\u001b[0m \u001b[38;5;28;01mif\u001b[39;00m \u001b[38;5;28misinstance\u001b[39m(data, (SingleBlockManager, SingleArrayManager)):\n",
      "File \u001b[0;32m/opt/anaconda3/envs/ppgold/lib/python3.12/site-packages/pandas/core/common.py:561\u001b[0m, in \u001b[0;36mrequire_length_match\u001b[0;34m(data, index)\u001b[0m\n\u001b[1;32m    557\u001b[0m \u001b[38;5;250m\u001b[39m\u001b[38;5;124;03m\"\"\"\u001b[39;00m\n\u001b[1;32m    558\u001b[0m \u001b[38;5;124;03mCheck the length of data matches the length of the index.\u001b[39;00m\n\u001b[1;32m    559\u001b[0m \u001b[38;5;124;03m\"\"\"\u001b[39;00m\n\u001b[1;32m    560\u001b[0m \u001b[38;5;28;01mif\u001b[39;00m \u001b[38;5;28mlen\u001b[39m(data) \u001b[38;5;241m!=\u001b[39m \u001b[38;5;28mlen\u001b[39m(index):\n\u001b[0;32m--> 561\u001b[0m     \u001b[38;5;28;01mraise\u001b[39;00m \u001b[38;5;167;01mValueError\u001b[39;00m(\n\u001b[1;32m    562\u001b[0m         \u001b[38;5;124m\"\u001b[39m\u001b[38;5;124mLength of values \u001b[39m\u001b[38;5;124m\"\u001b[39m\n\u001b[1;32m    563\u001b[0m         \u001b[38;5;124mf\u001b[39m\u001b[38;5;124m\"\u001b[39m\u001b[38;5;124m(\u001b[39m\u001b[38;5;132;01m{\u001b[39;00m\u001b[38;5;28mlen\u001b[39m(data)\u001b[38;5;132;01m}\u001b[39;00m\u001b[38;5;124m) \u001b[39m\u001b[38;5;124m\"\u001b[39m\n\u001b[1;32m    564\u001b[0m         \u001b[38;5;124m\"\u001b[39m\u001b[38;5;124mdoes not match length of index \u001b[39m\u001b[38;5;124m\"\u001b[39m\n\u001b[1;32m    565\u001b[0m         \u001b[38;5;124mf\u001b[39m\u001b[38;5;124m\"\u001b[39m\u001b[38;5;124m(\u001b[39m\u001b[38;5;132;01m{\u001b[39;00m\u001b[38;5;28mlen\u001b[39m(index)\u001b[38;5;132;01m}\u001b[39;00m\u001b[38;5;124m)\u001b[39m\u001b[38;5;124m\"\u001b[39m\n\u001b[1;32m    566\u001b[0m     )\n",
      "\u001b[0;31mValueError\u001b[0m: Length of values (7) does not match length of index (6)"
     ]
    }
   ],
   "source": [
    "pd.Series(index = diasSemana, data = frutas)"
   ]
  },
  {
   "cell_type": "markdown",
   "id": "b7284d6d-58bd-4d86-af41-4f181f26cfc2",
   "metadata": {},
   "source": [
    "## Referências\n",
    "\n",
    "* https://pandas.pydata.org/docs/\n",
    "\n",
    "## Autor\n",
    "\n",
    "<a href=\"https://www.linkedin.com/in/eduardopecora/\" target=\"_blank\">Eduardo Pecora</a>\n",
    "\n",
    "## Log de modificações\n",
    "\n",
    "| Data | Versão | Modificado por | Descrição |\n",
    "| ----------------- | ------- | ---------- | ---------------------------------- |\n",
    "| 07-05-2024       | 1.0     | Eduardo Pecora    | Inicial               |\n",
    "\n",
    "<hr>\n",
    "\n",
    "## <h3 align=\"center\"> (c) Eduardo Pécora/ UFPR 2024. All rights reserved. <h3/>\n",
    "\n"
   ]
  },
  {
   "cell_type": "code",
   "execution_count": null,
   "id": "a0503a70-03a9-4763-a607-0fa00da4d5e1",
   "metadata": {},
   "outputs": [],
   "source": []
  }
 ],
 "metadata": {
  "kernelspec": {
   "display_name": "Python 3 (ipykernel)",
   "language": "python",
   "name": "python3"
  },
  "language_info": {
   "codemirror_mode": {
    "name": "ipython",
    "version": 3
   },
   "file_extension": ".py",
   "mimetype": "text/x-python",
   "name": "python",
   "nbconvert_exporter": "python",
   "pygments_lexer": "ipython3",
   "version": "3.12.2"
  }
 },
 "nbformat": 4,
 "nbformat_minor": 5
}
