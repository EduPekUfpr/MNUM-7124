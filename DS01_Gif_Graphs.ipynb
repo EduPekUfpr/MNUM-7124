{
 "cells": [
  {
   "cell_type": "code",
   "execution_count": 3,
   "id": "55769748-2897-47c5-8f3b-30d4cd0ea3e2",
   "metadata": {},
   "outputs": [
    {
     "name": "stderr",
     "output_type": "stream",
     "text": [
      "/var/folders/fr/1byq_zn551q9hcfd9_hhlv5h0000gn/T/ipykernel_60859/3360223614.py:26: DeprecationWarning: Starting with ImageIO v3 the behavior of this function will switch to that of iio.v3.imread. To keep the current behavior (and make this warning disappear) use `import imageio.v2 as imageio` or call `imageio.v2.imread` directly.\n",
      "  image = imageio.imread(filename)\n"
     ]
    }
   ],
   "source": [
    "import matplotlib.pyplot as plt\n",
    "import numpy as np\n",
    "import imageio\n",
    "\n",
    "# Create a directory to save the images\n",
    "import os\n",
    "if not os.path.exists('gif_frames'):\n",
    "    os.makedirs('gif_frames')\n",
    "\n",
    "# Generate and save the plots\n",
    "filenames = []\n",
    "for i in range(30):\n",
    "    x = np.linspace(0, 2 * np.pi, 100)\n",
    "    y = np.sin(x + np.pi * i / 10)\n",
    "\n",
    "    plt.figure()\n",
    "    plt.plot(x, y)\n",
    "    filename = f'gif_frames/frame_{i}.png'\n",
    "    plt.savefig(filename)\n",
    "    plt.close()\n",
    "    filenames.append(filename)\n",
    "\n",
    "# Create the GIF\n",
    "with imageio.get_writer('sine_wave.gif', mode='I', duration=0.5) as writer:\n",
    "    for filename in filenames:\n",
    "        image = imageio.imread(filename)\n",
    "        writer.append_data(image)\n",
    "\n",
    "# Cleanup the frames directory\n",
    "import shutil\n",
    "shutil.rmtree('gif_frames')\n"
   ]
  },
  {
   "cell_type": "code",
   "execution_count": null,
   "id": "9554e23e-129b-4b70-ab84-814a885633ad",
   "metadata": {},
   "outputs": [],
   "source": []
  }
 ],
 "metadata": {
  "kernelspec": {
   "display_name": "Python 3 (ipykernel)",
   "language": "python",
   "name": "python3"
  },
  "language_info": {
   "codemirror_mode": {
    "name": "ipython",
    "version": 3
   },
   "file_extension": ".py",
   "mimetype": "text/x-python",
   "name": "python",
   "nbconvert_exporter": "python",
   "pygments_lexer": "ipython3",
   "version": "3.12.3"
  }
 },
 "nbformat": 4,
 "nbformat_minor": 5
}
