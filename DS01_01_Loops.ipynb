{
 "cells": [
  {
   "cell_type": "markdown",
   "metadata": {
    "id": "454cED5za-Gq"
   },
   "source": [
    "<p style =\"text-align:center\">\n",
    "    <img src=\"http://epecora.com.br/DataFiles/PPGOLD_PPGMNE.png\" width=\"700\" alt=\"PPGOLD/PPGMNE Python:INTRO\"  />\n",
    "</p>\n",
    "\n",
    "\n",
    "# Introdução ao Python\n",
    "**Prof. Eduardo Pécora**\n",
    "\n",
    "Aula 01\n",
    "* Loops\n",
    "* For\n",
    "* While\n",
    "\n",
    "# Loops"
   ]
  },
  {
   "cell_type": "code",
   "execution_count": 3,
   "metadata": {
    "id": "Vk69dpxQbAQm"
   },
   "outputs": [],
   "source": [
    "pasta = {\"penne\",\"spagethi\",\"ravioli\",\"capeletti\"}"
   ]
  },
  {
   "cell_type": "markdown",
   "metadata": {
    "id": "FF437MDubi8l"
   },
   "source": [
    "## FOR"
   ]
  },
  {
   "cell_type": "markdown",
   "metadata": {
    "id": "sLkTqt_pbXwr"
   },
   "source": [
    "### ERRO"
   ]
  },
  {
   "cell_type": "code",
   "execution_count": 4,
   "metadata": {
    "colab": {
     "base_uri": "https://localhost:8080/",
     "height": 131
    },
    "id": "25Amci1DbJOT",
    "outputId": "456a7589-cd7d-49b1-900f-1f55e3212715"
   },
   "outputs": [
    {
     "ename": "SyntaxError",
     "evalue": "expected ':' (2545226947.py, line 1)",
     "output_type": "error",
     "traceback": [
      "\u001b[0;36m  Cell \u001b[0;32mIn[4], line 1\u001b[0;36m\u001b[0m\n\u001b[0;31m    for mac in pasta\u001b[0m\n\u001b[0m                    ^\u001b[0m\n\u001b[0;31mSyntaxError\u001b[0m\u001b[0;31m:\u001b[0m expected ':'\n"
     ]
    }
   ],
   "source": [
    "for mac in pasta\n",
    "  print(mac)"
   ]
  },
  {
   "cell_type": "code",
   "execution_count": 7,
   "metadata": {
    "colab": {
     "base_uri": "https://localhost:8080/",
     "height": 131
    },
    "id": "w8y4URNVbXfY",
    "outputId": "2c72e08f-fd3d-4ee2-feb8-5c9a202a55e3"
   },
   "outputs": [
    {
     "ename": "IndentationError",
     "evalue": "expected an indented block after 'for' statement on line 1 (591819284.py, line 2)",
     "output_type": "error",
     "traceback": [
      "\u001b[0;36m  Cell \u001b[0;32mIn[7], line 2\u001b[0;36m\u001b[0m\n\u001b[0;31m    print(mac)\u001b[0m\n\u001b[0m    ^\u001b[0m\n\u001b[0;31mIndentationError\u001b[0m\u001b[0;31m:\u001b[0m expected an indented block after 'for' statement on line 1\n"
     ]
    }
   ],
   "source": [
    "for mac in pasta:\n",
    "print(mac)"
   ]
  },
  {
   "cell_type": "code",
   "execution_count": 8,
   "metadata": {
    "colab": {
     "base_uri": "https://localhost:8080/"
    },
    "id": "qoQUfuA5bQeE",
    "outputId": "c8984d23-c7e7-4961-8ad5-040ba223cc40"
   },
   "outputs": [
    {
     "name": "stdout",
     "output_type": "stream",
     "text": [
      "penne\n",
      "ravioli\n",
      "spagethi\n",
      "capeletti\n"
     ]
    }
   ],
   "source": [
    "for mac in pasta:\n",
    "  print(mac)"
   ]
  },
  {
   "cell_type": "code",
   "execution_count": 9,
   "metadata": {
    "colab": {
     "base_uri": "https://localhost:8080/"
    },
    "id": "5opFyvDobdzK",
    "outputId": "39f83255-4ff1-4661-8e25-5cbd8627fd16"
   },
   "outputs": [
    {
     "name": "stdout",
     "output_type": "stream",
     "text": [
      "0\n",
      "1\n",
      "2\n",
      "3\n",
      "4\n"
     ]
    }
   ],
   "source": [
    "for i in range(5):  #inicia no ZERO e termina no 4\n",
    "  print (i)"
   ]
  },
  {
   "cell_type": "code",
   "execution_count": 10,
   "metadata": {
    "colab": {
     "base_uri": "https://localhost:8080/"
    },
    "id": "Z-jin7E8czsC",
    "outputId": "8e9af535-8e34-4695-8875-382ca28d57e9"
   },
   "outputs": [
    {
     "name": "stdout",
     "output_type": "stream",
     "text": [
      "3\n",
      "4\n",
      "5\n",
      "6\n",
      "7\n",
      "8\n",
      "9\n",
      "10\n",
      "11\n"
     ]
    }
   ],
   "source": [
    "for i in range(3,12):  #inicia no Três e termina no Onze\n",
    "  print (i)"
   ]
  },
  {
   "cell_type": "markdown",
   "metadata": {
    "id": "aHpOWiHZb5n5"
   },
   "source": [
    "## Nested loops"
   ]
  },
  {
   "cell_type": "code",
   "execution_count": 11,
   "metadata": {
    "colab": {
     "base_uri": "https://localhost:8080/"
    },
    "id": "1MJPk1XPbuDi",
    "outputId": "e9553a3a-0a06-4cf5-a9ef-428d6a81c7c8"
   },
   "outputs": [
    {
     "name": "stdout",
     "output_type": "stream",
     "text": [
      "1 2 3 4 \n",
      "2 4 6 8 \n",
      "3 6 9 12 \n",
      "4 8 12 16 \n",
      "5 10 15 20 \n",
      "6 12 18 24 \n",
      "7 14 21 28 \n",
      "8 16 24 32 \n",
      "9 18 27 36 \n",
      "10 20 30 40 \n"
     ]
    }
   ],
   "source": [
    "# loop externo\n",
    "for i in range(1, 11):\n",
    "    # nested loop\n",
    "    # to iterate from 1 to 5\n",
    "    for j in range(1, 5):\n",
    "        # print multiplicação\n",
    "        print(i * j, end=' ')\n",
    "    print()"
   ]
  },
  {
   "cell_type": "markdown",
   "metadata": {
    "id": "3_X4qBvgbmCX"
   },
   "source": [
    "## While"
   ]
  },
  {
   "cell_type": "code",
   "execution_count": 12,
   "metadata": {
    "colab": {
     "base_uri": "https://localhost:8080/"
    },
    "id": "5lkppXMnbnRN",
    "outputId": "b26ea6a4-cd33-4639-a3a8-1c8a0386976e"
   },
   "outputs": [
    {
     "name": "stdout",
     "output_type": "stream",
     "text": [
      "0\n",
      "1\n",
      "2\n",
      "3\n",
      "4\n",
      "5\n",
      "6\n",
      "7\n",
      "8\n",
      "9\n",
      "10\n"
     ]
    }
   ],
   "source": [
    "count = 0\n",
    "while count <= 10:\n",
    "  print(count)\n",
    "  count += 1"
   ]
  }
 ],
 "metadata": {
  "colab": {
   "provenance": []
  },
  "kernelspec": {
   "display_name": "Python 3 (ipykernel)",
   "language": "python",
   "name": "python3"
  },
  "language_info": {
   "codemirror_mode": {
    "name": "ipython",
    "version": 3
   },
   "file_extension": ".py",
   "mimetype": "text/x-python",
   "name": "python",
   "nbconvert_exporter": "python",
   "pygments_lexer": "ipython3",
   "version": "3.10.0"
  }
 },
 "nbformat": 4,
 "nbformat_minor": 4
}
