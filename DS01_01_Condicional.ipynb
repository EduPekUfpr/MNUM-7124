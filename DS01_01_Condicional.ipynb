{
 "cells": [
  {
   "cell_type": "markdown",
   "id": "c63fcb97-c848-4e1d-9b80-87bd23c5430a",
   "metadata": {},
   "source": [
    "<p style =\"text-align:center\">\n",
    "    <img src=\"http://epecora.com.br/DataFiles/PPGOLD_PPGMNE.png\" width=\"700\" alt=\"PPGOLD/PPGMNE Python:INTRO\"  />\n",
    "</p>\n",
    "\n",
    "\n",
    "# Introdução ao Python\n",
    "**Prof. Eduardo Pécora**\n",
    "\n",
    "Aula 01\n",
    "* IF\n",
    "\n",
    "# Introdução às condicionais em Python\n",
    "\n",
    "* Condicionais são usadas para tomar decisões com base em condições específicas.\n",
    "* Em Python, as estruturas condicionais mais comuns são if, elif e else.\n",
    "\n",
    "## Sintax\n",
    "```python\n",
    "if condição:\n",
    "    # bloco de código\n",
    "else:\n",
    "    # bloco de código\n",
    "```"
   ]
  },
  {
   "cell_type": "code",
   "execution_count": 1,
   "id": "1bbe79e0-e4b4-4c26-86f3-11fdbe366ff4",
   "metadata": {},
   "outputs": [
    {
     "name": "stdout",
     "output_type": "stream",
     "text": [
      "O número é negativo.\n"
     ]
    }
   ],
   "source": [
    "# Exemplo básico de condicional\n",
    "\n",
    "# Suponha que queremos verificar se um número é positivo ou negativo.\n",
    "\n",
    "numero = -5\n",
    "\n",
    "if numero > 0:\n",
    "    print(\"O número é positivo.\")\n",
    "else:\n",
    "    print(\"O número é negativo.\")\n"
   ]
  },
  {
   "cell_type": "markdown",
   "id": "43d9c912-65a7-44a1-ad81-c4a36e02508c",
   "metadata": {},
   "source": [
    "## Operadores de comparação comuns em Python:\n",
    "* '>' : Maior que\n",
    "* < : Menor que\n",
    "* '>=' : Maior ou igual a\n",
    "* <=: Menor ou igual a\n",
    "* ==: Igual a\n",
    "* !=: Diferente de\n",
    "\n",
    "# Exemplo com elif:\n",
    "\n",
    "Sintax\n",
    "\n",
    "```python\n",
    "if condição1:\n",
    "    # bloco de código\n",
    "elif condição2:\n",
    "    # bloco de código\n",
    "else:\n",
    "    # bloco de código\n",
    "```"
   ]
  },
  {
   "cell_type": "code",
   "execution_count": 2,
   "id": "8f632c50-33ae-4e8a-9a2f-037cfaa4a604",
   "metadata": {},
   "outputs": [
    {
     "name": "stdout",
     "output_type": "stream",
     "text": [
      "Aprovado!\n"
     ]
    }
   ],
   "source": [
    "# Suponha que queremos classificar um aluno com base em sua nota.\n",
    "\n",
    "nota = 85\n",
    "\n",
    "if nota >= 90:\n",
    "    print(\"Aprovado com distinção!\")\n",
    "elif nota >= 70:\n",
    "    print(\"Aprovado!\")\n",
    "else:\n",
    "    print(\"Reprovado.\")"
   ]
  },
  {
   "cell_type": "markdown",
   "id": "8136bd41-024c-4af9-9974-f70928a8d6f7",
   "metadata": {},
   "source": [
    "## Condicionais Múltiplas\n",
    "# Exemplo 1: Verificar se um número está entre dois valores"
   ]
  },
  {
   "cell_type": "code",
   "execution_count": 3,
   "id": "092b43e7-f32c-4e31-9994-43944132a1e5",
   "metadata": {},
   "outputs": [
    {
     "name": "stdout",
     "output_type": "stream",
     "text": [
      "O número está entre 10 e 20\n"
     ]
    }
   ],
   "source": [
    "numero = 15\n",
    "\n",
    "limite_inferior = 10\n",
    "limite_superior = 20\n",
    "\n",
    "if limite_inferior <= numero <= limite_superior:\n",
    "    print(\"O número está entre\", limite_inferior, \"e\", limite_superior)\n",
    "else:\n",
    "    print(\"O número está fora do intervalo.\")"
   ]
  },
  {
   "cell_type": "markdown",
   "id": "c5e4e5e3-388d-4dc7-ac0c-2c1cc33a89ed",
   "metadata": {},
   "source": [
    "# Exemplo 2: Verificar se uma pessoa é maior de idade e tem permissão para dirigir"
   ]
  },
  {
   "cell_type": "code",
   "execution_count": 4,
   "id": "98fcb162-a262-4622-8aed-76f555a32995",
   "metadata": {},
   "outputs": [
    {
     "name": "stdout",
     "output_type": "stream",
     "text": [
      "A pessoa é maior de idade e tem permissão para dirigir.\n"
     ]
    }
   ],
   "source": [
    "idade = 18\n",
    "tem_carta_de_motorista = True\n",
    "\n",
    "if idade >= 18 and tem_carta_de_motorista:\n",
    "    print(\"A pessoa é maior de idade e tem permissão para dirigir.\")\n",
    "else:\n",
    "    print(\"A pessoa não atende aos requisitos para dirigir.\")"
   ]
  },
  {
   "cell_type": "markdown",
   "id": "997eb037-f334-4b1b-a40d-4382d150d3d7",
   "metadata": {},
   "source": [
    "# Exemplo3: Verificar se um número é positivo OU par"
   ]
  },
  {
   "cell_type": "code",
   "execution_count": 5,
   "id": "bb9dde08-9d27-472b-b549-47a9d53878f2",
   "metadata": {},
   "outputs": [
    {
     "name": "stdout",
     "output_type": "stream",
     "text": [
      "O número é positivo ou par.\n"
     ]
    }
   ],
   "source": [
    "numero = -4\n",
    "\n",
    "if numero > 0 or numero % 2 == 0:\n",
    "    print(\"O número é positivo ou par.\")\n",
    "else:\n",
    "    print(\"O número não é positivo nem par.\")"
   ]
  },
  {
   "cell_type": "markdown",
   "id": "c7fa6003-8eb4-4b3b-a14d-82353e10a16d",
   "metadata": {},
   "source": [
    "## Autor\n",
    "\n",
    "<a href=\"https://www.linkedin.com/in/eduardopecora/\" target=\"_blank\">Eduardo Pecora</a>\n",
    "\n",
    "## Log de modificações\n",
    "\n",
    "| Data | Versão | Modificado por | Descrição |\n",
    "| ----------------- | ------- | ---------- | ---------------------------------- |\n",
    "| 02-05-2024       | 1.1     | Eduardo Pecora    | Inicial               |\n",
    "\n",
    "<hr>\n",
    "\n",
    "## <h3 align=\"center\"> (c) Eduardo Pécora/ UFPR 2024. All rights reserved. <h3/>\n"
   ]
  },
  {
   "cell_type": "code",
   "execution_count": null,
   "id": "c30f1621-1f75-4117-9deb-d651491114b2",
   "metadata": {},
   "outputs": [],
   "source": []
  }
 ],
 "metadata": {
  "kernelspec": {
   "display_name": "Python 3 (ipykernel)",
   "language": "python",
   "name": "python3"
  },
  "language_info": {
   "codemirror_mode": {
    "name": "ipython",
    "version": 3
   },
   "file_extension": ".py",
   "mimetype": "text/x-python",
   "name": "python",
   "nbconvert_exporter": "python",
   "pygments_lexer": "ipython3",
   "version": "3.10.0"
  }
 },
 "nbformat": 4,
 "nbformat_minor": 5
}
