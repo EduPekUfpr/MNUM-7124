{
 "cells": [
  {
   "cell_type": "code",
   "execution_count": 1,
   "id": "a746e294",
   "metadata": {},
   "outputs": [],
   "source": [
    "import pandas as pd\n",
    "import numpy as np"
   ]
  },
  {
   "cell_type": "code",
   "execution_count": 2,
   "id": "63ffdd0b",
   "metadata": {},
   "outputs": [
    {
     "data": {
      "text/plain": [
       "'2.0.1'"
      ]
     },
     "execution_count": 2,
     "metadata": {},
     "output_type": "execute_result"
    }
   ],
   "source": [
    "pd.__version__"
   ]
  },
  {
   "cell_type": "markdown",
   "id": "f7d678e9",
   "metadata": {},
   "source": [
    "## Tipos em Pandas"
   ]
  },
  {
   "cell_type": "code",
   "execution_count": 5,
   "id": "94e4832d",
   "metadata": {},
   "outputs": [
    {
     "name": "stdout",
     "output_type": "stream",
     "text": [
      "<class 'list'>\n"
     ]
    },
    {
     "data": {
      "text/plain": [
       "0         Maçã\n",
       "1       Banana\n",
       "2     Graviola\n",
       "3         Umbu\n",
       "4    Carambola\n",
       "5         Jaca\n",
       "dtype: object"
      ]
     },
     "execution_count": 5,
     "metadata": {},
     "output_type": "execute_result"
    }
   ],
   "source": [
    "frutas = [\"Maçã\", \"Banana\", \"Graviola\", \"Umbu\", \"Carambola\", \"Jaca\"] # Lista\n",
    "print(type(frutas))\n",
    "pd.Series(frutas)"
   ]
  },
  {
   "cell_type": "code",
   "execution_count": 6,
   "id": "59ad40c1",
   "metadata": {},
   "outputs": [
    {
     "data": {
      "text/plain": [
       "0     3\n",
       "1    12\n",
       "2    27\n",
       "3    30\n",
       "4    45\n",
       "5    59\n",
       "dtype: int64"
      ]
     },
     "execution_count": 6,
     "metadata": {},
     "output_type": "execute_result"
    }
   ],
   "source": [
    "megaSena = [3, 12, 27, 30, 45, 59]\n",
    "pd.Series(megaSena)"
   ]
  },
  {
   "cell_type": "code",
   "execution_count": 7,
   "id": "3f09f3d3",
   "metadata": {},
   "outputs": [
    {
     "data": {
      "text/plain": [
       "0     True\n",
       "1    False\n",
       "2     True\n",
       "3     True\n",
       "4     True\n",
       "5    False\n",
       "6    False\n",
       "dtype: bool"
      ]
     },
     "execution_count": 7,
     "metadata": {},
     "output_type": "execute_result"
    }
   ],
   "source": [
    "evento = [True, False, True, True, True, False, False]\n",
    "pd.Series(evento)"
   ]
  },
  {
   "cell_type": "code",
   "execution_count": 13,
   "id": "39e2a859",
   "metadata": {},
   "outputs": [
    {
     "data": {
      "text/plain": [
       "0    12.3\n",
       "1    45.0\n",
       "2    23.6\n",
       "3    92.2\n",
       "4     0.0\n",
       "dtype: float64"
      ]
     },
     "execution_count": 13,
     "metadata": {},
     "output_type": "execute_result"
    }
   ],
   "source": [
    "volume = [12.3, 45, 23.6, 92.2,0]\n",
    "pd.Series(volume)"
   ]
  },
  {
   "cell_type": "code",
   "execution_count": 15,
   "id": "62a11374",
   "metadata": {},
   "outputs": [
    {
     "name": "stdout",
     "output_type": "stream",
     "text": [
      "<class 'dict'>\n"
     ]
    },
    {
     "data": {
      "text/plain": [
       "Athletico Paranaense    PR\n",
       "Flamengo                RJ\n",
       "São Paulo               SP\n",
       "dtype: object"
      ]
     },
     "execution_count": 15,
     "metadata": {},
     "output_type": "execute_result"
    }
   ],
   "source": [
    "time = {\n",
    "    \"Athletico Paranaense\": \"PR\",\n",
    "    \"Flamengo\": \"RJ\",\n",
    "    \"São Paulo\": \"SP\"\n",
    "}\n",
    "print(type(time))\n",
    "pd.Series(time)"
   ]
  },
  {
   "cell_type": "markdown",
   "id": "ce5d8f4f",
   "metadata": {},
   "source": [
    "## Métodos em Pandas"
   ]
  },
  {
   "cell_type": "code",
   "execution_count": 16,
   "id": "36e17bdc",
   "metadata": {},
   "outputs": [
    {
     "data": {
      "text/plain": [
       "'HELLO'"
      ]
     },
     "execution_count": 16,
     "metadata": {},
     "output_type": "execute_result"
    }
   ],
   "source": [
    "\"hello\".upper()"
   ]
  },
  {
   "cell_type": "code",
   "execution_count": 17,
   "id": "54813189",
   "metadata": {},
   "outputs": [
    {
     "data": {
      "text/plain": [
       "[1, 2, 3, 4]"
      ]
     },
     "execution_count": 17,
     "metadata": {},
     "output_type": "execute_result"
    }
   ],
   "source": [
    "values = [1,2,3]\n",
    "values.append(4)\n",
    "values"
   ]
  },
  {
   "cell_type": "code",
   "execution_count": 21,
   "id": "015bd566",
   "metadata": {},
   "outputs": [],
   "source": [
    "preços = pd.Series([1.99, 3.00, 5.31])"
   ]
  },
  {
   "cell_type": "code",
   "execution_count": 40,
   "id": "228f56d5",
   "metadata": {},
   "outputs": [
    {
     "data": {
      "text/plain": [
       "10.3"
      ]
     },
     "execution_count": 40,
     "metadata": {},
     "output_type": "execute_result"
    }
   ],
   "source": [
    "preços.sum()"
   ]
  },
  {
   "cell_type": "code",
   "execution_count": 27,
   "id": "478b21bf",
   "metadata": {},
   "outputs": [
    {
     "data": {
      "text/plain": [
       "3.4333333333333336"
      ]
     },
     "execution_count": 27,
     "metadata": {},
     "output_type": "execute_result"
    }
   ],
   "source": [
    "preços.mean()"
   ]
  },
  {
   "cell_type": "markdown",
   "id": "22c9249b",
   "metadata": {},
   "source": [
    "## Atributos da Série"
   ]
  },
  {
   "cell_type": "code",
   "execution_count": 28,
   "id": "42104c5c",
   "metadata": {
    "scrolled": true
   },
   "outputs": [
    {
     "data": {
      "text/plain": [
       "0    inteligente\n",
       "1          lindo\n",
       "2       charmoso\n",
       "3       brilante\n",
       "4        honesto\n",
       "5        modesto\n",
       "dtype: object"
      ]
     },
     "execution_count": 28,
     "metadata": {},
     "output_type": "execute_result"
    }
   ],
   "source": [
    "adjetivos = pd.Series([\"inteligente\", \"lindo\", \"charmoso\", \"brilante\", \"honesto\", \"modesto\"])\n",
    "adjetivos"
   ]
  },
  {
   "cell_type": "code",
   "execution_count": 38,
   "id": "48249c58",
   "metadata": {},
   "outputs": [
    {
     "data": {
      "text/plain": [
       "7"
      ]
     },
     "execution_count": 38,
     "metadata": {},
     "output_type": "execute_result"
    }
   ],
   "source": [
    "adjetivos.size"
   ]
  },
  {
   "cell_type": "code",
   "execution_count": 30,
   "id": "6db5f3eb",
   "metadata": {},
   "outputs": [
    {
     "data": {
      "text/plain": [
       "True"
      ]
     },
     "execution_count": 30,
     "metadata": {},
     "output_type": "execute_result"
    }
   ],
   "source": [
    "adjetivos.is_unique"
   ]
  },
  {
   "cell_type": "code",
   "execution_count": 31,
   "id": "4957991b",
   "metadata": {},
   "outputs": [
    {
     "data": {
      "text/plain": [
       "False"
      ]
     },
     "execution_count": 31,
     "metadata": {},
     "output_type": "execute_result"
    }
   ],
   "source": [
    "adjetivos = pd.Series([\"inteligente\", \"lindo\", \"charmoso\", \"brilante\", \"honesto\", \"modesto\", \"modesto\"])\n",
    "adjetivos.is_unique"
   ]
  },
  {
   "cell_type": "code",
   "execution_count": 32,
   "id": "4e77140e",
   "metadata": {},
   "outputs": [
    {
     "data": {
      "text/plain": [
       "(7,)"
      ]
     },
     "execution_count": 32,
     "metadata": {},
     "output_type": "execute_result"
    }
   ],
   "source": [
    "adjetivos.shape"
   ]
  },
  {
   "cell_type": "code",
   "execution_count": 33,
   "id": "7cf799e1",
   "metadata": {},
   "outputs": [
    {
     "data": {
      "text/plain": [
       "array(['inteligente', 'lindo', 'charmoso', 'brilante', 'honesto',\n",
       "       'modesto', 'modesto'], dtype=object)"
      ]
     },
     "execution_count": 33,
     "metadata": {},
     "output_type": "execute_result"
    }
   ],
   "source": [
    "adjetivos.values"
   ]
  },
  {
   "cell_type": "code",
   "execution_count": 34,
   "id": "02365c92",
   "metadata": {},
   "outputs": [
    {
     "data": {
      "text/plain": [
       "numpy.ndarray"
      ]
     },
     "execution_count": 34,
     "metadata": {},
     "output_type": "execute_result"
    }
   ],
   "source": [
    "type(adjetivos.values)"
   ]
  },
  {
   "cell_type": "code",
   "execution_count": 35,
   "id": "d23f66d4",
   "metadata": {},
   "outputs": [
    {
     "data": {
      "text/plain": [
       "RangeIndex(start=0, stop=7, step=1)"
      ]
     },
     "execution_count": 35,
     "metadata": {},
     "output_type": "execute_result"
    }
   ],
   "source": [
    "adjetivos.index"
   ]
  },
  {
   "cell_type": "code",
   "execution_count": 36,
   "id": "e6669577",
   "metadata": {},
   "outputs": [
    {
     "data": {
      "text/plain": [
       "dtype('O')"
      ]
     },
     "execution_count": 36,
     "metadata": {},
     "output_type": "execute_result"
    }
   ],
   "source": [
    "adjetivos.dtype"
   ]
  },
  {
   "cell_type": "markdown",
   "id": "6a96467f",
   "metadata": {},
   "source": [
    "## Index"
   ]
  },
  {
   "cell_type": "code",
   "execution_count": 41,
   "id": "939720c6",
   "metadata": {},
   "outputs": [],
   "source": [
    "frutas = [\"Maçã\", \"Banana\", \"Graviola\", \"Umbu\", \"Carambola\", \"Jaca\", \"Laranja\"]\n",
    "diasSemana = [\"Segunda-feira\",\"Terça-feira\",\"Quarta-feira\",\"Quinta-feira\",\"Sexta-feira\",\"Sabado\",\"Domingo\"]"
   ]
  },
  {
   "cell_type": "code",
   "execution_count": null,
   "id": "780fe773",
   "metadata": {},
   "outputs": [],
   "source": []
  },
  {
   "cell_type": "code",
   "execution_count": null,
   "id": "a310fcdf",
   "metadata": {},
   "outputs": [],
   "source": [
    "pd.Series()"
   ]
  },
  {
   "cell_type": "code",
   "execution_count": 42,
   "id": "40157ab2",
   "metadata": {},
   "outputs": [
    {
     "data": {
      "text/plain": [
       "Segunda-feira         Maçã\n",
       "Terça-feira         Banana\n",
       "Quarta-feira      Graviola\n",
       "Quinta-feira          Umbu\n",
       "Sexta-feira      Carambola\n",
       "Sabado                Jaca\n",
       "Domingo            Laranja\n",
       "dtype: object"
      ]
     },
     "execution_count": 42,
     "metadata": {},
     "output_type": "execute_result"
    }
   ],
   "source": [
    "pd.Series(frutas, diasSemana)"
   ]
  },
  {
   "cell_type": "code",
   "execution_count": 24,
   "id": "fc570371",
   "metadata": {},
   "outputs": [
    {
     "data": {
      "text/plain": [
       "Maçã         Segunda-feira\n",
       "Banana         Terça-feira\n",
       "Graviola      Quarta-feira\n",
       "Umbu          Quinta-feira\n",
       "Carambola      Sexta-feira\n",
       "Jaca                Sabado\n",
       "Laranja            Domingo\n",
       "dtype: object"
      ]
     },
     "execution_count": 24,
     "metadata": {},
     "output_type": "execute_result"
    }
   ],
   "source": [
    "pd.Series(diasSemana, frutas)"
   ]
  },
  {
   "cell_type": "code",
   "execution_count": 25,
   "id": "ff38fd1a",
   "metadata": {},
   "outputs": [
    {
     "data": {
      "text/plain": [
       "Segunda-feira         Maçã\n",
       "Terça-feira         Banana\n",
       "Quarta-feira      Graviola\n",
       "Quinta-feira          Umbu\n",
       "Sexta-feira      Carambola\n",
       "Sabado                Jaca\n",
       "Domingo            Laranja\n",
       "dtype: object"
      ]
     },
     "execution_count": 25,
     "metadata": {},
     "output_type": "execute_result"
    }
   ],
   "source": [
    "pd.Series(index = diasSemana, data = frutas)"
   ]
  },
  {
   "cell_type": "code",
   "execution_count": 43,
   "id": "db656b93",
   "metadata": {},
   "outputs": [],
   "source": [
    "frutas = [\"Maçã\", \"Banana\", \"Graviola\", \"Umbu\", \"Carambola\", \"Jaca\", \"Laranja\"]\n",
    "diasSemana = [\"Segunda-feira\",\"Terça-feira\",\"Quarta-feira\",\"Quinta-feira\",\"Sexta-feira\",\"Sabado\"]"
   ]
  },
  {
   "cell_type": "code",
   "execution_count": 47,
   "id": "8f7a3a99",
   "metadata": {},
   "outputs": [
    {
     "data": {
      "text/plain": [
       "7"
      ]
     },
     "execution_count": 47,
     "metadata": {},
     "output_type": "execute_result"
    }
   ],
   "source": [
    "len(frutas)"
   ]
  },
  {
   "cell_type": "code",
   "execution_count": 48,
   "id": "8a780790",
   "metadata": {},
   "outputs": [
    {
     "data": {
      "text/plain": [
       "6"
      ]
     },
     "execution_count": 48,
     "metadata": {},
     "output_type": "execute_result"
    }
   ],
   "source": [
    "len(diasSemana)"
   ]
  },
  {
   "cell_type": "code",
   "execution_count": 49,
   "id": "fd3edff6",
   "metadata": {},
   "outputs": [
    {
     "ename": "ValueError",
     "evalue": "Length of values (7) does not match length of index (6)",
     "output_type": "error",
     "traceback": [
      "\u001b[0;31m---------------------------------------------------------------------------\u001b[0m",
      "\u001b[0;31mValueError\u001b[0m                                Traceback (most recent call last)",
      "Cell \u001b[0;32mIn[49], line 1\u001b[0m\n\u001b[0;32m----> 1\u001b[0m \u001b[43mpd\u001b[49m\u001b[38;5;241;43m.\u001b[39;49m\u001b[43mSeries\u001b[49m\u001b[43m(\u001b[49m\u001b[43mindex\u001b[49m\u001b[43m \u001b[49m\u001b[38;5;241;43m=\u001b[39;49m\u001b[43m \u001b[49m\u001b[43mdiasSemana\u001b[49m\u001b[43m,\u001b[49m\u001b[43m \u001b[49m\u001b[43mdata\u001b[49m\u001b[43m \u001b[49m\u001b[38;5;241;43m=\u001b[39;49m\u001b[43m \u001b[49m\u001b[43mfrutas\u001b[49m\u001b[43m)\u001b[49m\n",
      "File \u001b[0;32m~/anaconda3/envs/PandasCourse/lib/python3.10/site-packages/pandas/core/series.py:500\u001b[0m, in \u001b[0;36mSeries.__init__\u001b[0;34m(self, data, index, dtype, name, copy, fastpath)\u001b[0m\n\u001b[1;32m    498\u001b[0m     index \u001b[38;5;241m=\u001b[39m default_index(\u001b[38;5;28mlen\u001b[39m(data))\n\u001b[1;32m    499\u001b[0m \u001b[38;5;28;01melif\u001b[39;00m is_list_like(data):\n\u001b[0;32m--> 500\u001b[0m     \u001b[43mcom\u001b[49m\u001b[38;5;241;43m.\u001b[39;49m\u001b[43mrequire_length_match\u001b[49m\u001b[43m(\u001b[49m\u001b[43mdata\u001b[49m\u001b[43m,\u001b[49m\u001b[43m \u001b[49m\u001b[43mindex\u001b[49m\u001b[43m)\u001b[49m\n\u001b[1;32m    502\u001b[0m \u001b[38;5;66;03m# create/copy the manager\u001b[39;00m\n\u001b[1;32m    503\u001b[0m \u001b[38;5;28;01mif\u001b[39;00m \u001b[38;5;28misinstance\u001b[39m(data, (SingleBlockManager, SingleArrayManager)):\n",
      "File \u001b[0;32m~/anaconda3/envs/PandasCourse/lib/python3.10/site-packages/pandas/core/common.py:576\u001b[0m, in \u001b[0;36mrequire_length_match\u001b[0;34m(data, index)\u001b[0m\n\u001b[1;32m    572\u001b[0m \u001b[38;5;250m\u001b[39m\u001b[38;5;124;03m\"\"\"\u001b[39;00m\n\u001b[1;32m    573\u001b[0m \u001b[38;5;124;03mCheck the length of data matches the length of the index.\u001b[39;00m\n\u001b[1;32m    574\u001b[0m \u001b[38;5;124;03m\"\"\"\u001b[39;00m\n\u001b[1;32m    575\u001b[0m \u001b[38;5;28;01mif\u001b[39;00m \u001b[38;5;28mlen\u001b[39m(data) \u001b[38;5;241m!=\u001b[39m \u001b[38;5;28mlen\u001b[39m(index):\n\u001b[0;32m--> 576\u001b[0m     \u001b[38;5;28;01mraise\u001b[39;00m \u001b[38;5;167;01mValueError\u001b[39;00m(\n\u001b[1;32m    577\u001b[0m         \u001b[38;5;124m\"\u001b[39m\u001b[38;5;124mLength of values \u001b[39m\u001b[38;5;124m\"\u001b[39m\n\u001b[1;32m    578\u001b[0m         \u001b[38;5;124mf\u001b[39m\u001b[38;5;124m\"\u001b[39m\u001b[38;5;124m(\u001b[39m\u001b[38;5;132;01m{\u001b[39;00m\u001b[38;5;28mlen\u001b[39m(data)\u001b[38;5;132;01m}\u001b[39;00m\u001b[38;5;124m) \u001b[39m\u001b[38;5;124m\"\u001b[39m\n\u001b[1;32m    579\u001b[0m         \u001b[38;5;124m\"\u001b[39m\u001b[38;5;124mdoes not match length of index \u001b[39m\u001b[38;5;124m\"\u001b[39m\n\u001b[1;32m    580\u001b[0m         \u001b[38;5;124mf\u001b[39m\u001b[38;5;124m\"\u001b[39m\u001b[38;5;124m(\u001b[39m\u001b[38;5;132;01m{\u001b[39;00m\u001b[38;5;28mlen\u001b[39m(index)\u001b[38;5;132;01m}\u001b[39;00m\u001b[38;5;124m)\u001b[39m\u001b[38;5;124m\"\u001b[39m\n\u001b[1;32m    581\u001b[0m     )\n",
      "\u001b[0;31mValueError\u001b[0m: Length of values (7) does not match length of index (6)"
     ]
    }
   ],
   "source": [
    "pd.Series(index = diasSemana, data = frutas)"
   ]
  },
  {
   "cell_type": "code",
   "execution_count": null,
   "id": "dbe0e267",
   "metadata": {},
   "outputs": [],
   "source": []
  }
 ],
 "metadata": {
  "kernelspec": {
   "display_name": "Python 3 (ipykernel)",
   "language": "python",
   "name": "python3"
  },
  "language_info": {
   "codemirror_mode": {
    "name": "ipython",
    "version": 3
   },
   "file_extension": ".py",
   "mimetype": "text/x-python",
   "name": "python",
   "nbconvert_exporter": "python",
   "pygments_lexer": "ipython3",
   "version": "3.10.10"
  }
 },
 "nbformat": 4,
 "nbformat_minor": 5
}
