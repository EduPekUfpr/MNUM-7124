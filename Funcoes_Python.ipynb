{
 "cells": [
  {
   "cell_type": "markdown",
   "metadata": {},
   "source": [
    "<p style =\"text-align:center\">\n",
    "    <img src=\"http://epecora.com.br/DataFiles/PPGOLD_PPGMNE.png\" width=\"700\" alt=\"PPGOLD/PPGMNE Python:INTRO\"  />\n",
    "</p>\n",
    "\n",
    "\n",
    "# Introdução ao Python\n",
    "**Prof. Eduardo Pécora**\n",
    "\n",
    "Aula 01 - Funções\n",
    "\n",
    "# Funções em Python\n",
    "\n",
    "## Sintax\n",
    "\n",
    "```python\n",
    "def nome_da_funcao(parametro1, parametro2, ...):\n",
    "    # Corpo da função\n",
    "    # Pode conter uma ou mais instruções\n",
    "    return valor_de_retorno\n",
    "```\n",
    "* nome_da_funcao: é o nome que você atribui à função.\n",
    "* parametro1, parametro2, ...: são os parâmetros de entrada da função. Eles são opcionais e podem ser usados para passar informações para a função.\n",
    "* return valor_de_retorno: a instrução return é usada para especificar o valor de retorno da função. Este é o valor que a função retorna quando é chamada.\n",
    "\n",
    "## Exemplos"
   ]
  },
  {
   "cell_type": "code",
   "execution_count": 2,
   "metadata": {
    "colab": {
     "base_uri": "https://localhost:8080/"
    },
    "id": "GxIIe6yvmsgc",
    "outputId": "f71f0f5f-262d-4785-a876-6432aa5476fe"
   },
   "outputs": [
    {
     "name": "stdout",
     "output_type": "stream",
     "text": [
      "Hello from a function\n"
     ]
    }
   ],
   "source": [
    "def my_function():\n",
    "  print(\"Hello from a function\")\n",
    "\n",
    "my_function()"
   ]
  },
  {
   "cell_type": "markdown",
   "metadata": {
    "id": "8re5NYpAnmXh"
   },
   "source": [
    "## Funções com argumentos"
   ]
  },
  {
   "cell_type": "code",
   "execution_count": 3,
   "metadata": {
    "colab": {
     "base_uri": "https://localhost:8080/"
    },
    "id": "THjp-ux8mvpd",
    "outputId": "578251fa-ffe8-4a03-ec8d-5770cb8b38f5"
   },
   "outputs": [
    {
     "name": "stdout",
     "output_type": "stream",
     "text": [
      "Hello Junior from a function\n",
      "Hello Maria from a function\n"
     ]
    }
   ],
   "source": [
    "def my_function_2(nome = \"Junior\"): # Argumento (nome) Default é \"Junior\", mas pode ser alterado\n",
    "  print(\"Hello \" + nome + \" from a function\")\n",
    "\n",
    "my_function_2()  # Usa o Default\n",
    "\n",
    "my_function_2(\"Maria\") # Muda o nome default"
   ]
  },
  {
   "cell_type": "markdown",
   "metadata": {
    "id": "YeZuGD2cn-pa"
   },
   "source": [
    "## Funções com mais de um argumento"
   ]
  },
  {
   "cell_type": "code",
   "execution_count": 4,
   "metadata": {
    "colab": {
     "base_uri": "https://localhost:8080/"
    },
    "id": "Y3XCVxUan-a1",
    "outputId": "70bac95a-e73a-4ee2-f06f-0671b570bee3"
   },
   "outputs": [
    {
     "name": "stdout",
     "output_type": "stream",
     "text": [
      "Zé e Maria são casados\n"
     ]
    }
   ],
   "source": [
    "def my_function_3(lname, rname):\n",
    "  print(lname + \" e \" + rname + \" são casados\")\n",
    "\n",
    "my_function_3(\"Zé\", \"Maria\")\n"
   ]
  },
  {
   "cell_type": "markdown",
   "metadata": {
    "id": "VcqPDXrFoQXL"
   },
   "source": [
    "### ERRO"
   ]
  },
  {
   "cell_type": "code",
   "execution_count": 5,
   "metadata": {
    "colab": {
     "base_uri": "https://localhost:8080/",
     "height": 141
    },
    "id": "iQpk4nVKnbLN",
    "outputId": "9b9e1b48-8cd5-4253-a52d-b1b64cf1ff61"
   },
   "outputs": [
    {
     "ename": "TypeError",
     "evalue": "my_function_3() missing 1 required positional argument: 'rname'",
     "output_type": "error",
     "traceback": [
      "\u001b[0;31m---------------------------------------------------------------------------\u001b[0m",
      "\u001b[0;31mTypeError\u001b[0m                                 Traceback (most recent call last)",
      "Cell \u001b[0;32mIn[5], line 1\u001b[0m\n\u001b[0;32m----> 1\u001b[0m \u001b[43mmy_function_3\u001b[49m\u001b[43m(\u001b[49m\u001b[38;5;124;43m\"\u001b[39;49m\u001b[38;5;124;43mZé\u001b[39;49m\u001b[38;5;124;43m\"\u001b[39;49m\u001b[43m)\u001b[49m\n",
      "\u001b[0;31mTypeError\u001b[0m: my_function_3() missing 1 required positional argument: 'rname'"
     ]
    }
   ],
   "source": [
    "my_function_3(\"Zé\")"
   ]
  },
  {
   "cell_type": "markdown",
   "metadata": {
    "id": "YAMGlUupox4y"
   },
   "source": [
    "## Se houver o Default não gera erro"
   ]
  },
  {
   "cell_type": "code",
   "execution_count": 6,
   "metadata": {
    "colab": {
     "base_uri": "https://localhost:8080/"
    },
    "id": "ksyhuCsloUKK",
    "outputId": "4080f991-3dec-4a83-c394-0da2150a7d28"
   },
   "outputs": [
    {
     "name": "stdout",
     "output_type": "stream",
     "text": [
      "Zé e Maria são casados\n"
     ]
    }
   ],
   "source": [
    "def my_function_3(lname = \"Zé\", rname = \"Maria\"):\n",
    "  print(lname + \" e \" + rname + \" são casados\")\n",
    "\n",
    "my_function_3(\"Zé\")\n"
   ]
  },
  {
   "cell_type": "code",
   "execution_count": 7,
   "metadata": {
    "colab": {
     "base_uri": "https://localhost:8080/"
    },
    "id": "VlKIvDEXoncO",
    "outputId": "e1a87bc1-9738-4e22-f2b9-575c25b518f2"
   },
   "outputs": [
    {
     "name": "stdout",
     "output_type": "stream",
     "text": [
      "Hello João from a function\n",
      "João e Solange são casados\n"
     ]
    }
   ],
   "source": [
    "my_function_2(\"João\")\n",
    "my_function_3(\"João\", \"Solange\")"
   ]
  },
  {
   "cell_type": "markdown",
   "metadata": {
    "id": "aaU303dbpIdF"
   },
   "source": [
    "### Quer trocar só o segundo argumento ? -> Especifique"
   ]
  },
  {
   "cell_type": "code",
   "execution_count": 8,
   "metadata": {
    "colab": {
     "base_uri": "https://localhost:8080/"
    },
    "id": "pTjT9HxQopHo",
    "outputId": "2c366346-66c2-4a56-dfbd-763d5abff16d"
   },
   "outputs": [
    {
     "name": "stdout",
     "output_type": "stream",
     "text": [
      "Zé e Rita são casados\n"
     ]
    }
   ],
   "source": [
    "my_function_3(rname = \"Rita\")"
   ]
  },
  {
   "cell_type": "markdown",
   "metadata": {
    "id": "qz9g08-2qSYq"
   },
   "source": [
    "## Passar uma lista como argumento"
   ]
  },
  {
   "cell_type": "code",
   "execution_count": 9,
   "metadata": {
    "colab": {
     "base_uri": "https://localhost:8080/"
    },
    "id": "9q06fcTSouR_",
    "outputId": "347e28a2-18c0-4bfb-d8ec-7b708e29ea6d"
   },
   "outputs": [
    {
     "name": "stdout",
     "output_type": "stream",
     "text": [
      "Platão\n",
      "Aristóteles\n",
      "Sócrates\n",
      "Badin\n"
     ]
    }
   ],
   "source": [
    "def my_function(filosofos):\n",
    "  for x in filosofos:\n",
    "    print(x)\n",
    "\n",
    "filosofos = [\"Platão\", \"Aristóteles\", \"Sócrates\",\"Badin\"]\n",
    "\n",
    "my_function(filosofos)\n",
    "\n",
    "# pra quem não conhece o Badin https://www.youtube.com/@Badincolono"
   ]
  },
  {
   "cell_type": "markdown",
   "metadata": {
    "id": "bgU3Wyk5tvx-"
   },
   "source": [
    "## O nome do argumento na função pode ser diferente do nome da chamada da função"
   ]
  },
  {
   "cell_type": "code",
   "execution_count": 10,
   "metadata": {
    "colab": {
     "base_uri": "https://localhost:8080/"
    },
    "id": "8qT2Q_flqiv0",
    "outputId": "6930ff69-60c7-4b69-ec9e-0d27a1c4b7c9"
   },
   "outputs": [
    {
     "name": "stdout",
     "output_type": "stream",
     "text": [
      "Platão\n",
      "Aristóteles\n",
      "Sócrates\n",
      "Badin\n",
      "Santo Fole\n"
     ]
    }
   ],
   "source": [
    "phil = [\"Platão\", \"Aristóteles\", \"Sócrates\",\"Badin\",\"Santo Fole\"]\n",
    "\n",
    "my_function(phil)\n",
    "\n",
    "# pra quem não conhece o Santo Fole https://www.instagram.com/santofole/"
   ]
  },
  {
   "cell_type": "markdown",
   "metadata": {
    "id": "kCrzEk5hGYhq"
   },
   "source": [
    "## Funcões com números"
   ]
  },
  {
   "cell_type": "code",
   "execution_count": 11,
   "metadata": {
    "colab": {
     "base_uri": "https://localhost:8080/"
    },
    "id": "F0PDrKPfyQkL",
    "outputId": "541ae462-7ac7-404a-a294-7d564d9e75b5"
   },
   "outputs": [
    {
     "name": "stdout",
     "output_type": "stream",
     "text": [
      "par\n",
      "impar\n"
     ]
    }
   ],
   "source": [
    "def par(a):\n",
    "  if(a%2 == 0):\n",
    "    return \"par\"\n",
    "  else:\n",
    "    return \"impar\"\n",
    "\n",
    "print(par(2))\n",
    "print(par(15))\n"
   ]
  },
  {
   "cell_type": "code",
   "execution_count": 12,
   "metadata": {
    "colab": {
     "base_uri": "https://localhost:8080/"
    },
    "id": "YLAX54qeGp4O",
    "outputId": "a140e434-3d40-4e07-9371-3b34edfce88b"
   },
   "outputs": [
    {
     "name": "stdout",
     "output_type": "stream",
     "text": [
      "16\n"
     ]
    }
   ],
   "source": [
    "def square(n):\n",
    "  return n * n\n",
    "\n",
    "result = square(4)\n",
    "print(result)"
   ]
  },
  {
   "cell_type": "code",
   "execution_count": 13,
   "metadata": {
    "colab": {
     "base_uri": "https://localhost:8080/"
    },
    "id": "-4BJAYu9HHZQ",
    "outputId": "4dd082a2-4133-422e-c141-e7db53e414bf"
   },
   "outputs": [
    {
     "name": "stdout",
     "output_type": "stream",
     "text": [
      "10 , 2\n"
     ]
    }
   ],
   "source": [
    "def swap(a, b):\n",
    "  return b, a\n",
    "\n",
    "a = 2\n",
    "b = 10\n",
    "x,y = swap(a,b)\n",
    "print(x, ',', y)"
   ]
  },
  {
   "cell_type": "code",
   "execution_count": 14,
   "metadata": {
    "colab": {
     "base_uri": "https://localhost:8080/"
    },
    "id": "6_QMpd4tHdl-",
    "outputId": "53b57714-3f38-4d4d-d46f-d70848d26b4e"
   },
   "outputs": [
    {
     "name": "stdout",
     "output_type": "stream",
     "text": [
      "(10, 2)\n"
     ]
    }
   ],
   "source": [
    "z = swap(a, b)\n",
    "print(z)"
   ]
  },
  {
   "cell_type": "markdown",
   "metadata": {
    "id": "ffkNGs7hI18F"
   },
   "source": [
    "## Tarefa:\n",
    "\n",
    "1. Construa uma função que recebe os valores a,b,c,x e calcula: a.x^2+b.x+c\n",
    "2. Construa uma função que a,b,c e calcula as raízes (reais) de f(x) = a.x^2+b.x+c\n",
    "\n"
   ]
  },
  {
   "cell_type": "markdown",
   "metadata": {
    "id": "GsbP7pfBKJBt"
   },
   "source": [
    "## Autor\n",
    "\n",
    "<a href=\"https://www.linkedin.com/in/eduardopecora/\" target=\"_blank\">Eduardo Pecora</a>\n",
    "\n",
    "## Log de modificações\n",
    "\n",
    "| Data | Versão | Modificado por | Descrição |\n",
    "| ----------------- | ------- | ---------- | ---------------------------------- |\n",
    "| 26-02-2024       | 1.0     | Eduardo Pecora    | Inicial               |\n",
    "| 02-05-2024       | 1.1     | Eduardo Pecora    | Correções               |\n",
    "\n",
    "<hr>\n",
    "\n",
    "## <h3 align=\"center\"> (c) Eduardo Pécora/ UFPR 2024. All rights reserved. <h3/>\n",
    "\n"
   ]
  },
  {
   "cell_type": "code",
   "execution_count": null,
   "metadata": {
    "id": "_s1-M8iBKJwZ"
   },
   "outputs": [],
   "source": []
  }
 ],
 "metadata": {
  "colab": {
   "provenance": []
  },
  "kernelspec": {
   "display_name": "Python 3 (ipykernel)",
   "language": "python",
   "name": "python3"
  },
  "language_info": {
   "codemirror_mode": {
    "name": "ipython",
    "version": 3
   },
   "file_extension": ".py",
   "mimetype": "text/x-python",
   "name": "python",
   "nbconvert_exporter": "python",
   "pygments_lexer": "ipython3",
   "version": "3.10.0"
  }
 },
 "nbformat": 4,
 "nbformat_minor": 4
}
